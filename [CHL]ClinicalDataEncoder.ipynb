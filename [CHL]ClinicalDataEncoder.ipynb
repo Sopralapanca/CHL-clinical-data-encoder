{
  "nbformat": 4,
  "nbformat_minor": 0,
  "metadata": {
    "colab": {
      "provenance": [],
      "authorship_tag": "ABX9TyMu/A6JyQs3rhj/bNAPgmRg",
      "include_colab_link": true
    },
    "kernelspec": {
      "name": "python3",
      "display_name": "Python 3"
    },
    "language_info": {
      "name": "python"
    }
  },
  "cells": [
    {
      "cell_type": "markdown",
      "metadata": {
        "id": "view-in-github",
        "colab_type": "text"
      },
      "source": [
        "<a href=\"https://colab.research.google.com/github/Sopralapanca/ComputationalHealthLab/blob/master/%5BCHL%5DClinicalDataEncoder.ipynb\" target=\"_parent\"><img src=\"https://colab.research.google.com/assets/colab-badge.svg\" alt=\"Open In Colab\"/></a>"
      ]
    },
    {
      "cell_type": "code",
      "execution_count": 1,
      "metadata": {
        "id": "x4NajQGR4dMY"
      },
      "outputs": [],
      "source": [
        "%%capture\n",
        "# clone the repository in order to download the dataset\n",
        "!git clone https://github.com/Sopralapanca/ComputationalHealthLab.git\n",
        "\n",
        "data_path = \"/content/ComputationalHealthLab/datasets/TiroideCardio_dataset.csv\""
      ]
    }
  ]
}