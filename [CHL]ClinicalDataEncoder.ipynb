{
  "nbformat": 4,
  "nbformat_minor": 0,
  "metadata": {
    "colab": {
      "provenance": [],
      "collapsed_sections": [
        "c9fF-1PIAc3s",
        "hOdQP242Ao8M",
        "rCT4jbLiAswe"
      ],
      "include_colab_link": true
    },
    "kernelspec": {
      "name": "python3",
      "display_name": "Python 3"
    },
    "language_info": {
      "name": "python"
    }
  },
  "cells": [
    {
      "cell_type": "markdown",
      "metadata": {
        "id": "view-in-github",
        "colab_type": "text"
      },
      "source": [
        "<a href=\"https://colab.research.google.com/github/Sopralapanca/ComputationalHealthLab/blob/master/%5BCHL%5DClinicalDataEncoder.ipynb\" target=\"_parent\"><img src=\"https://colab.research.google.com/assets/colab-badge.svg\" alt=\"Open In Colab\"/></a>"
      ]
    },
    {
      "cell_type": "code",
      "execution_count": 1,
      "metadata": {
        "id": "x4NajQGR4dMY"
      },
      "outputs": [],
      "source": [
        "%%capture\n",
        "import pandas as pd\n",
        "import numpy as np\n",
        "\n",
        "# clone the repository in order to download the dataset\n",
        "!git clone https://github.com/Sopralapanca/ComputationalHealthLab.git\n",
        "\n",
        "data_path = \"/content/ComputationalHealthLab/datasets/TiroideCardio_dataset.csv\"\n",
        "df = pd.read_csv(data_path)"
      ]
    },
    {
      "cell_type": "markdown",
      "source": [
        "# Data Understanding & Data Preparation"
      ],
      "metadata": {
        "id": "Z1FdtzkbAZJg"
      }
    },
    {
      "cell_type": "code",
      "source": [
        "# removing \\n from the name of the columns\n",
        "columns = df.columns\n",
        "new_cols = columns.str.replace('\\n', ' ')\n",
        "\n",
        "col_dict = {}\n",
        "for old, new in zip(columns, new_cols):\n",
        "    col_dict[old] = new\n",
        "\n",
        "df = df.rename(columns=col_dict)"
      ],
      "metadata": {
        "id": "BojrTcsBR5T8"
      },
      "execution_count": 2,
      "outputs": []
    },
    {
      "cell_type": "code",
      "source": [
        "df.info()"
      ],
      "metadata": {
        "colab": {
          "base_uri": "https://localhost:8080/"
        },
        "id": "gz66FpQ-U1qp",
        "outputId": "6c20a144-afb9-4604-e8e8-cb61a6770518"
      },
      "execution_count": 3,
      "outputs": [
        {
          "output_type": "stream",
          "name": "stdout",
          "text": [
            "<class 'pandas.core.frame.DataFrame'>\n",
            "RangeIndex: 5820 entries, 0 to 5819\n",
            "Data columns (total 94 columns):\n",
            " #   Column                                      Non-Null Count  Dtype  \n",
            "---  ------                                      --------------  -----  \n",
            " 0   Data prelievo (1)                           5819 non-null   object \n",
            " 1   N. patients                                 5820 non-null   int64  \n",
            " 2   Age (1)                                     5820 non-null   int64  \n",
            " 3   Gender (Male = 1)                           5820 non-null   int64  \n",
            " 4   Angina                                      5820 non-null   int64  \n",
            " 5   Previous CABG                               5820 non-null   int64  \n",
            " 6   Previous PCI                                5820 non-null   int64  \n",
            " 7   Previous  Myocardial Infarction             5820 non-null   int64  \n",
            " 8   Acute  Myocardial Infarction                5820 non-null   int64  \n",
            " 9   Angiography                                 5820 non-null   int64  \n",
            " 10  Vessels                                     3562 non-null   float64\n",
            " 11  CAD                                         5820 non-null   int64  \n",
            " 12  Smoke History of smoke                      5820 non-null   int64  \n",
            " 13  Diabetes History of diabetes                5820 non-null   int64  \n",
            " 14  Hypertension History of hypertension        5820 non-null   int64  \n",
            " 15  Dyslipidemia Hystory of dyslipidemia        5820 non-null   int64  \n",
            " 16  Family history of CAD                       5820 non-null   int64  \n",
            " 17  Obesity History of obesity                  5820 non-null   int64  \n",
            " 18  Documented resting  or exertional ischemia  5820 non-null   int64  \n",
            " 19  Post-ischemic Dilated Cardiomyopathy        5820 non-null   int64  \n",
            " 20  Primary Dilated Cardiomyopathy              5820 non-null   int64  \n",
            " 21  Atrial Fibrillation                         5820 non-null   int64  \n",
            " 22  Paroxysmal atrial fibrillation              5820 non-null   int64  \n",
            " 23  B-Blockers                                  5820 non-null   int64  \n",
            " 24  Amiodarone                                  5820 non-null   int64  \n",
            " 25  Calcium channel blockers                    5820 non-null   int64  \n",
            " 26  Diuretics                                   5820 non-null   int64  \n",
            " 27  Antiplatelet                                5820 non-null   int64  \n",
            " 28  Nitrates                                    5820 non-null   int64  \n",
            " 29  ACE-inhibitors                              5820 non-null   int64  \n",
            " 30  Ipolipemizzanti                             5820 non-null   int64  \n",
            " 31  Antidiabetici                               5820 non-null   int64  \n",
            " 32  Total mortality                             5820 non-null   int64  \n",
            " 33  Non CVD Death                               5809 non-null   float64\n",
            " 34  CVD Death                                   5820 non-null   int64  \n",
            " 35  Fatal MI or Sudden death                    5820 non-null   int64  \n",
            " 36  UnKnown                                     5820 non-null   int64  \n",
            " 37  Accident                                    5820 non-null   int64  \n",
            " 38  Suicide                                     5820 non-null   int64  \n",
            " 39  Cabg                                        5820 non-null   int64  \n",
            " 40  Non fatal AMI                               5820 non-null   int64  \n",
            " 41  Pci                                         5820 non-null   int64  \n",
            " 42  Total cholesterol                           5820 non-null   int64  \n",
            " 43  HDL                                         5820 non-null   int64  \n",
            " 44  LDL                                         5820 non-null   float64\n",
            " 45  Triglycerides                               5820 non-null   int64  \n",
            " 46  Glycemia                                    5813 non-null   float64\n",
            " 47  TSH                                         5820 non-null   float64\n",
            " 48  fT3                                         5820 non-null   float64\n",
            " 49  fT4                                         5820 non-null   float64\n",
            " 50  Euthyroid                                   5820 non-null   float64\n",
            " 51  Subclinical primary hypothyroidism (SCH)    5820 non-null   float64\n",
            " 52  Subclinical primary hyperthyroidism (SCT)   5820 non-null   float64\n",
            " 53  Low T3                                      5820 non-null   float64\n",
            " 54  Ipotiroidismo                               5820 non-null   float64\n",
            " 55  Ipertiroidismo                              5820 non-null   float64\n",
            " 56  Controllo                                   5820 non-null   float64\n",
            " 57  Patologia TIROIDE                           113 non-null    object \n",
            " 58  Normal                                      5820 non-null   int64  \n",
            " 59  SindromeX                                   5820 non-null   int64  \n",
            " 60  AMI                                         5820 non-null   int64  \n",
            " 61  PMI                                         5820 non-null   int64  \n",
            " 62  Aritmie                                     5820 non-null   int64  \n",
            " 63  MIN                                         5820 non-null   int64  \n",
            " 64  MIO                                         5820 non-null   int64  \n",
            " 65  Miocardite                                  5820 non-null   int64  \n",
            " 66  Pericardite                                 5820 non-null   int64  \n",
            " 67  Endocardite                                 5820 non-null   int64  \n",
            " 68  Valvulopatie                                5820 non-null   int64  \n",
            " 69  MalattiaVasoAorta                           5820 non-null   int64  \n",
            " 70  Ipertensione                                5820 non-null   int64  \n",
            " 71  CardiopatiaCongenita                        5820 non-null   int64  \n",
            " 72  EmboliaPolmonare                            5820 non-null   int64  \n",
            " 73  EPA                                         5820 non-null   int64  \n",
            " 74  HR                                          5791 non-null   float64\n",
            " 75  Weight                                      5820 non-null   int64  \n",
            " 76  Height                                      5820 non-null   int64  \n",
            " 77  BMI                                         5820 non-null   float64\n",
            " 78  Diastolic blood pressure                    5820 non-null   int64  \n",
            " 79  Systolic blood pressure                     5820 non-null   int64  \n",
            " 80  WmsiBas                                     5820 non-null   float64\n",
            " 81  DimSettoIV                                  5820 non-null   int64  \n",
            " 82  DimParPost                                  5820 non-null   int64  \n",
            " 83  fe                                          5820 non-null   int64  \n",
            " 84  vsx                                         5820 non-null   int64  \n",
            " 85  Follow Up Data                              5820 non-null   object \n",
            " 86  Data of death                               1469 non-null   object \n",
            " 87  Cause of death                              1469 non-null   object \n",
            " 88  Cardiac cause of death                      5809 non-null   float64\n",
            " 89  Collected by                                1469 non-null   object \n",
            " 90  CABG                                        635 non-null    object \n",
            " 91  Non Fatal AMI (Follow-Up)                   204 non-null    object \n",
            " 92  PCI                                         1013 non-null   object \n",
            " 93  Ictus                                       73 non-null     object \n",
            "dtypes: float64(18), int64(66), object(10)\n",
            "memory usage: 4.2+ MB\n"
          ]
        }
      ]
    },
    {
      "cell_type": "code",
      "source": [
        "df.head()"
      ],
      "metadata": {
        "colab": {
          "base_uri": "https://localhost:8080/",
          "height": 473
        },
        "id": "kxR3WF1YU-Nq",
        "outputId": "c7b104fb-9e06-48d2-8082-73c7dcda9ef8"
      },
      "execution_count": 4,
      "outputs": [
        {
          "output_type": "execute_result",
          "data": {
            "text/plain": [
              "  Data prelievo (1)  N. patients  Age (1)  Gender (Male = 1)  Angina  \\\n",
              "0        18/10/2007          395       81                  1       0   \n",
              "1         20/4/2009         8778       71                  1       0   \n",
              "2        27/12/2010         8986       86                  0       0   \n",
              "3          5/4/2002         2272       82                  1       1   \n",
              "4         1/12/2003         3679       86                  1       0   \n",
              "\n",
              "   Previous CABG  Previous PCI  Previous  Myocardial Infarction  \\\n",
              "0              0             0                                0   \n",
              "1              0             0                                0   \n",
              "2              0             0                                0   \n",
              "3              0             0                                0   \n",
              "4              0             0                                0   \n",
              "\n",
              "   Acute  Myocardial Infarction  Angiography  ...  vsx  Follow Up Data  \\\n",
              "0                             0            0  ...   65       22/5/2010   \n",
              "1                             0            0  ...   47       13/8/2009   \n",
              "2                             0            0  ...   43       17/1/2011   \n",
              "3                             0            0  ...   52       22/4/2013   \n",
              "4                             0            0  ...   37       18/5/2004   \n",
              "\n",
              "   Data of death  Cause of death  Cardiac cause of death  \\\n",
              "0      22/5/2010          Cancer                     0.0   \n",
              "1      13/8/2009          Cancer                     0.0   \n",
              "2            NaN             NaN                     0.0   \n",
              "3            NaN             NaN                     0.0   \n",
              "4      18/5/2004          Cancer                     0.0   \n",
              "\n",
              "                      Collected by  CABG   Non Fatal AMI (Follow-Up)  PCI  \\\n",
              "0  Relatives (Telephone interview)    NaN                        NaN  NaN   \n",
              "1  Relatives (Telephone interview)    NaN                        NaN  NaN   \n",
              "2                              NaN    NaN                        NaN  NaN   \n",
              "3                              NaN    NaN                        NaN  NaN   \n",
              "4  Relatives (Telephone interview)    NaN                        NaN  NaN   \n",
              "\n",
              "   Ictus  \n",
              "0    NaN  \n",
              "1    NaN  \n",
              "2    NaN  \n",
              "3    NaN  \n",
              "4    NaN  \n",
              "\n",
              "[5 rows x 94 columns]"
            ],
            "text/html": [
              "\n",
              "  <div id=\"df-31b4e28d-5707-47b6-8b06-40e04d9764af\">\n",
              "    <div class=\"colab-df-container\">\n",
              "      <div>\n",
              "<style scoped>\n",
              "    .dataframe tbody tr th:only-of-type {\n",
              "        vertical-align: middle;\n",
              "    }\n",
              "\n",
              "    .dataframe tbody tr th {\n",
              "        vertical-align: top;\n",
              "    }\n",
              "\n",
              "    .dataframe thead th {\n",
              "        text-align: right;\n",
              "    }\n",
              "</style>\n",
              "<table border=\"1\" class=\"dataframe\">\n",
              "  <thead>\n",
              "    <tr style=\"text-align: right;\">\n",
              "      <th></th>\n",
              "      <th>Data prelievo (1)</th>\n",
              "      <th>N. patients</th>\n",
              "      <th>Age (1)</th>\n",
              "      <th>Gender (Male = 1)</th>\n",
              "      <th>Angina</th>\n",
              "      <th>Previous CABG</th>\n",
              "      <th>Previous PCI</th>\n",
              "      <th>Previous  Myocardial Infarction</th>\n",
              "      <th>Acute  Myocardial Infarction</th>\n",
              "      <th>Angiography</th>\n",
              "      <th>...</th>\n",
              "      <th>vsx</th>\n",
              "      <th>Follow Up Data</th>\n",
              "      <th>Data of death</th>\n",
              "      <th>Cause of death</th>\n",
              "      <th>Cardiac cause of death</th>\n",
              "      <th>Collected by</th>\n",
              "      <th>CABG</th>\n",
              "      <th>Non Fatal AMI (Follow-Up)</th>\n",
              "      <th>PCI</th>\n",
              "      <th>Ictus</th>\n",
              "    </tr>\n",
              "  </thead>\n",
              "  <tbody>\n",
              "    <tr>\n",
              "      <th>0</th>\n",
              "      <td>18/10/2007</td>\n",
              "      <td>395</td>\n",
              "      <td>81</td>\n",
              "      <td>1</td>\n",
              "      <td>0</td>\n",
              "      <td>0</td>\n",
              "      <td>0</td>\n",
              "      <td>0</td>\n",
              "      <td>0</td>\n",
              "      <td>0</td>\n",
              "      <td>...</td>\n",
              "      <td>65</td>\n",
              "      <td>22/5/2010</td>\n",
              "      <td>22/5/2010</td>\n",
              "      <td>Cancer</td>\n",
              "      <td>0.0</td>\n",
              "      <td>Relatives (Telephone interview)</td>\n",
              "      <td>NaN</td>\n",
              "      <td>NaN</td>\n",
              "      <td>NaN</td>\n",
              "      <td>NaN</td>\n",
              "    </tr>\n",
              "    <tr>\n",
              "      <th>1</th>\n",
              "      <td>20/4/2009</td>\n",
              "      <td>8778</td>\n",
              "      <td>71</td>\n",
              "      <td>1</td>\n",
              "      <td>0</td>\n",
              "      <td>0</td>\n",
              "      <td>0</td>\n",
              "      <td>0</td>\n",
              "      <td>0</td>\n",
              "      <td>0</td>\n",
              "      <td>...</td>\n",
              "      <td>47</td>\n",
              "      <td>13/8/2009</td>\n",
              "      <td>13/8/2009</td>\n",
              "      <td>Cancer</td>\n",
              "      <td>0.0</td>\n",
              "      <td>Relatives (Telephone interview)</td>\n",
              "      <td>NaN</td>\n",
              "      <td>NaN</td>\n",
              "      <td>NaN</td>\n",
              "      <td>NaN</td>\n",
              "    </tr>\n",
              "    <tr>\n",
              "      <th>2</th>\n",
              "      <td>27/12/2010</td>\n",
              "      <td>8986</td>\n",
              "      <td>86</td>\n",
              "      <td>0</td>\n",
              "      <td>0</td>\n",
              "      <td>0</td>\n",
              "      <td>0</td>\n",
              "      <td>0</td>\n",
              "      <td>0</td>\n",
              "      <td>0</td>\n",
              "      <td>...</td>\n",
              "      <td>43</td>\n",
              "      <td>17/1/2011</td>\n",
              "      <td>NaN</td>\n",
              "      <td>NaN</td>\n",
              "      <td>0.0</td>\n",
              "      <td>NaN</td>\n",
              "      <td>NaN</td>\n",
              "      <td>NaN</td>\n",
              "      <td>NaN</td>\n",
              "      <td>NaN</td>\n",
              "    </tr>\n",
              "    <tr>\n",
              "      <th>3</th>\n",
              "      <td>5/4/2002</td>\n",
              "      <td>2272</td>\n",
              "      <td>82</td>\n",
              "      <td>1</td>\n",
              "      <td>1</td>\n",
              "      <td>0</td>\n",
              "      <td>0</td>\n",
              "      <td>0</td>\n",
              "      <td>0</td>\n",
              "      <td>0</td>\n",
              "      <td>...</td>\n",
              "      <td>52</td>\n",
              "      <td>22/4/2013</td>\n",
              "      <td>NaN</td>\n",
              "      <td>NaN</td>\n",
              "      <td>0.0</td>\n",
              "      <td>NaN</td>\n",
              "      <td>NaN</td>\n",
              "      <td>NaN</td>\n",
              "      <td>NaN</td>\n",
              "      <td>NaN</td>\n",
              "    </tr>\n",
              "    <tr>\n",
              "      <th>4</th>\n",
              "      <td>1/12/2003</td>\n",
              "      <td>3679</td>\n",
              "      <td>86</td>\n",
              "      <td>1</td>\n",
              "      <td>0</td>\n",
              "      <td>0</td>\n",
              "      <td>0</td>\n",
              "      <td>0</td>\n",
              "      <td>0</td>\n",
              "      <td>0</td>\n",
              "      <td>...</td>\n",
              "      <td>37</td>\n",
              "      <td>18/5/2004</td>\n",
              "      <td>18/5/2004</td>\n",
              "      <td>Cancer</td>\n",
              "      <td>0.0</td>\n",
              "      <td>Relatives (Telephone interview)</td>\n",
              "      <td>NaN</td>\n",
              "      <td>NaN</td>\n",
              "      <td>NaN</td>\n",
              "      <td>NaN</td>\n",
              "    </tr>\n",
              "  </tbody>\n",
              "</table>\n",
              "<p>5 rows × 94 columns</p>\n",
              "</div>\n",
              "      <button class=\"colab-df-convert\" onclick=\"convertToInteractive('df-31b4e28d-5707-47b6-8b06-40e04d9764af')\"\n",
              "              title=\"Convert this dataframe to an interactive table.\"\n",
              "              style=\"display:none;\">\n",
              "        \n",
              "  <svg xmlns=\"http://www.w3.org/2000/svg\" height=\"24px\"viewBox=\"0 0 24 24\"\n",
              "       width=\"24px\">\n",
              "    <path d=\"M0 0h24v24H0V0z\" fill=\"none\"/>\n",
              "    <path d=\"M18.56 5.44l.94 2.06.94-2.06 2.06-.94-2.06-.94-.94-2.06-.94 2.06-2.06.94zm-11 1L8.5 8.5l.94-2.06 2.06-.94-2.06-.94L8.5 2.5l-.94 2.06-2.06.94zm10 10l.94 2.06.94-2.06 2.06-.94-2.06-.94-.94-2.06-.94 2.06-2.06.94z\"/><path d=\"M17.41 7.96l-1.37-1.37c-.4-.4-.92-.59-1.43-.59-.52 0-1.04.2-1.43.59L10.3 9.45l-7.72 7.72c-.78.78-.78 2.05 0 2.83L4 21.41c.39.39.9.59 1.41.59.51 0 1.02-.2 1.41-.59l7.78-7.78 2.81-2.81c.8-.78.8-2.07 0-2.86zM5.41 20L4 18.59l7.72-7.72 1.47 1.35L5.41 20z\"/>\n",
              "  </svg>\n",
              "      </button>\n",
              "      \n",
              "  <style>\n",
              "    .colab-df-container {\n",
              "      display:flex;\n",
              "      flex-wrap:wrap;\n",
              "      gap: 12px;\n",
              "    }\n",
              "\n",
              "    .colab-df-convert {\n",
              "      background-color: #E8F0FE;\n",
              "      border: none;\n",
              "      border-radius: 50%;\n",
              "      cursor: pointer;\n",
              "      display: none;\n",
              "      fill: #1967D2;\n",
              "      height: 32px;\n",
              "      padding: 0 0 0 0;\n",
              "      width: 32px;\n",
              "    }\n",
              "\n",
              "    .colab-df-convert:hover {\n",
              "      background-color: #E2EBFA;\n",
              "      box-shadow: 0px 1px 2px rgba(60, 64, 67, 0.3), 0px 1px 3px 1px rgba(60, 64, 67, 0.15);\n",
              "      fill: #174EA6;\n",
              "    }\n",
              "\n",
              "    [theme=dark] .colab-df-convert {\n",
              "      background-color: #3B4455;\n",
              "      fill: #D2E3FC;\n",
              "    }\n",
              "\n",
              "    [theme=dark] .colab-df-convert:hover {\n",
              "      background-color: #434B5C;\n",
              "      box-shadow: 0px 1px 3px 1px rgba(0, 0, 0, 0.15);\n",
              "      filter: drop-shadow(0px 1px 2px rgba(0, 0, 0, 0.3));\n",
              "      fill: #FFFFFF;\n",
              "    }\n",
              "  </style>\n",
              "\n",
              "      <script>\n",
              "        const buttonEl =\n",
              "          document.querySelector('#df-31b4e28d-5707-47b6-8b06-40e04d9764af button.colab-df-convert');\n",
              "        buttonEl.style.display =\n",
              "          google.colab.kernel.accessAllowed ? 'block' : 'none';\n",
              "\n",
              "        async function convertToInteractive(key) {\n",
              "          const element = document.querySelector('#df-31b4e28d-5707-47b6-8b06-40e04d9764af');\n",
              "          const dataTable =\n",
              "            await google.colab.kernel.invokeFunction('convertToInteractive',\n",
              "                                                     [key], {});\n",
              "          if (!dataTable) return;\n",
              "\n",
              "          const docLinkHtml = 'Like what you see? Visit the ' +\n",
              "            '<a target=\"_blank\" href=https://colab.research.google.com/notebooks/data_table.ipynb>data table notebook</a>'\n",
              "            + ' to learn more about interactive tables.';\n",
              "          element.innerHTML = '';\n",
              "          dataTable['output_type'] = 'display_data';\n",
              "          await google.colab.output.renderOutput(dataTable, element);\n",
              "          const docLink = document.createElement('div');\n",
              "          docLink.innerHTML = docLinkHtml;\n",
              "          element.appendChild(docLink);\n",
              "        }\n",
              "      </script>\n",
              "    </div>\n",
              "  </div>\n",
              "  "
            ]
          },
          "metadata": {},
          "execution_count": 4
        }
      ]
    },
    {
      "cell_type": "code",
      "source": [
        "# count all the nan values in each column\n",
        "df.isna().sum()"
      ],
      "metadata": {
        "colab": {
          "base_uri": "https://localhost:8080/"
        },
        "id": "Z9aMdB5FVEM_",
        "outputId": "80f6a207-b86b-4d6d-a56c-17860ac17f75"
      },
      "execution_count": 5,
      "outputs": [
        {
          "output_type": "execute_result",
          "data": {
            "text/plain": [
              "Data prelievo (1)               1\n",
              "N. patients                     0\n",
              "Age (1)                         0\n",
              "Gender (Male = 1)               0\n",
              "Angina                          0\n",
              "                             ... \n",
              "Collected by                 4351\n",
              "CABG                         5185\n",
              "Non Fatal AMI (Follow-Up)    5616\n",
              "PCI                          4807\n",
              "Ictus                        5747\n",
              "Length: 94, dtype: int64"
            ]
          },
          "metadata": {},
          "execution_count": 5
        }
      ]
    },
    {
      "cell_type": "code",
      "source": [
        "# count nan values in each row and compute the mean\n",
        "df.isna().sum(axis=1).mean()"
      ],
      "metadata": {
        "colab": {
          "base_uri": "https://localhost:8080/"
        },
        "id": "3rBSunb4VItY",
        "outputId": "b9fc2d97-4760-46e6-ff2b-e1d4058929f4"
      },
      "execution_count": 6,
      "outputs": [
        {
          "output_type": "execute_result",
          "data": {
            "text/plain": [
              "7.290721649484536"
            ]
          },
          "metadata": {},
          "execution_count": 6
        }
      ]
    },
    {
      "cell_type": "markdown",
      "source": [
        "Each patient has 7 missing values on average"
      ],
      "metadata": {
        "id": "97p83Sa0VLYn"
      }
    },
    {
      "cell_type": "code",
      "source": [
        "df[\"Cardiac cause of death\"].value_counts()"
      ],
      "metadata": {
        "colab": {
          "base_uri": "https://localhost:8080/"
        },
        "id": "PeqRfw_3Aeb-",
        "outputId": "33c8e42a-d9c1-4814-dcbe-c8cdc602dcbb"
      },
      "execution_count": 7,
      "outputs": [
        {
          "output_type": "execute_result",
          "data": {
            "text/plain": [
              "0.0    5297\n",
              "1.0     512\n",
              "Name: Cardiac cause of death, dtype: int64"
            ]
          },
          "metadata": {},
          "execution_count": 7
        }
      ]
    },
    {
      "cell_type": "markdown",
      "source": [
        "Compute target label, we considere the missing values in \"Data of death\" as person that are still alive"
      ],
      "metadata": {
        "id": "oQgpU6JkyuOA"
      }
    },
    {
      "cell_type": "code",
      "source": [
        "df['Data prelievo (1)']= pd.to_datetime(df['Data prelievo (1)'], format='%d/%m/%Y')\n",
        "df['Data of death']= pd.to_datetime(df['Data of death'], format='%d/%m/%Y')"
      ],
      "metadata": {
        "id": "a87Ww6iTGMxl"
      },
      "execution_count": 8,
      "outputs": []
    },
    {
      "cell_type": "code",
      "source": [
        "# target column will have:\n",
        "#   1 if the patient died within 7 years of the first blood draw\n",
        "#   0 otherwise\n",
        "# since missing values in 'Date of death' column are considered as person that are still alive, they will have 0 in the target column\n",
        "df['target']= ((((df['Data of death']-df['Data prelievo (1)'])/ np.timedelta64(1, 'D'))//365)<=7) & (df['Cardiac cause of death'])\n",
        "df['target'] = df['target'].astype(int)\n",
        "df['target']"
      ],
      "metadata": {
        "colab": {
          "base_uri": "https://localhost:8080/"
        },
        "id": "qibSmOJWF2wM",
        "outputId": "bb356a81-f93f-44e9-c780-a1e33c6c926d"
      },
      "execution_count": 11,
      "outputs": [
        {
          "output_type": "execute_result",
          "data": {
            "text/plain": [
              "0       0\n",
              "1       0\n",
              "2       0\n",
              "3       0\n",
              "4       0\n",
              "       ..\n",
              "5815    0\n",
              "5816    0\n",
              "5817    0\n",
              "5818    0\n",
              "5819    0\n",
              "Name: target, Length: 5820, dtype: int64"
            ]
          },
          "metadata": {},
          "execution_count": 11
        }
      ]
    },
    {
      "cell_type": "code",
      "source": [
        "df['target'].value_counts()"
      ],
      "metadata": {
        "colab": {
          "base_uri": "https://localhost:8080/"
        },
        "outputId": "2a5166c9-984e-4804-b02c-7210e5044871",
        "id": "mxLzuweoPGJz"
      },
      "execution_count": 12,
      "outputs": [
        {
          "output_type": "execute_result",
          "data": {
            "text/plain": [
              "0    5351\n",
              "1     469\n",
              "Name: target, dtype: int64"
            ]
          },
          "metadata": {},
          "execution_count": 12
        }
      ]
    },
    {
      "cell_type": "code",
      "source": [
        "df['target'].isnull().any()"
      ],
      "metadata": {
        "colab": {
          "base_uri": "https://localhost:8080/"
        },
        "id": "cq6MG9Wlw81h",
        "outputId": "54b0011f-e012-4f25-e4d6-c448746a36de"
      },
      "execution_count": 13,
      "outputs": [
        {
          "output_type": "execute_result",
          "data": {
            "text/plain": [
              "False"
            ]
          },
          "metadata": {},
          "execution_count": 13
        }
      ]
    },
    {
      "cell_type": "code",
      "source": [
        "# how many male and female are in the dataset\n",
        "df['Gender (Male = 1)'].value_counts()"
      ],
      "metadata": {
        "colab": {
          "base_uri": "https://localhost:8080/"
        },
        "id": "ATXqbRIuWtYB",
        "outputId": "a7d5ff61-dc42-49a5-b79b-982dc195a5cc"
      },
      "execution_count": 14,
      "outputs": [
        {
          "output_type": "execute_result",
          "data": {
            "text/plain": [
              "1    4050\n",
              "0    1770\n",
              "Name: Gender (Male = 1), dtype: int64"
            ]
          },
          "metadata": {},
          "execution_count": 14
        }
      ]
    },
    {
      "cell_type": "code",
      "source": [
        "# histogram of the age of the patients in the dataset differentiating who has a cardiac cause of death and who has not\n",
        "df['Age (1)'].hist(by=df['target'])"
      ],
      "metadata": {
        "colab": {
          "base_uri": "https://localhost:8080/",
          "height": 490
        },
        "id": "UtDWEpEZWyZw",
        "outputId": "17a3f546-69c2-4521-810a-360e472f094b"
      },
      "execution_count": 15,
      "outputs": [
        {
          "output_type": "execute_result",
          "data": {
            "text/plain": [
              "array([<Axes: title={'center': '0'}>, <Axes: title={'center': '1'}>],\n",
              "      dtype=object)"
            ]
          },
          "metadata": {},
          "execution_count": 15
        },
        {
          "output_type": "display_data",
          "data": {
            "text/plain": [
              "<Figure size 640x480 with 2 Axes>"
            ],
            "image/png": "[encoded data removed]"
          },
          "metadata": {}
        }
      ]
    },
    {
      "cell_type": "code",
      "source": [
        "# altri plot?"
      ],
      "metadata": {
        "id": "DFQhimxdXnbq"
      },
      "execution_count": null,
      "outputs": []
    },
    {
      "cell_type": "code",
      "source": [
        "# normalizzare i dati prima della classificazione"
      ],
      "metadata": {
        "id": "3yMyAZbGX_t7"
      },
      "execution_count": null,
      "outputs": []
    },
    {
      "cell_type": "markdown",
      "source": [
        "# Encoder building"
      ],
      "metadata": {
        "id": "c9fF-1PIAc3s"
      }
    },
    {
      "cell_type": "code",
      "source": [
        "# todo"
      ],
      "metadata": {
        "id": "dSo_OP1LAm-W"
      },
      "execution_count": null,
      "outputs": []
    },
    {
      "cell_type": "markdown",
      "source": [
        "# Classical model"
      ],
      "metadata": {
        "id": "hOdQP242Ao8M"
      }
    },
    {
      "cell_type": "code",
      "source": [
        "# todo"
      ],
      "metadata": {
        "id": "tkWBEam1AqpY"
      },
      "execution_count": null,
      "outputs": []
    },
    {
      "cell_type": "markdown",
      "source": [
        "# Comparison"
      ],
      "metadata": {
        "id": "rCT4jbLiAswe"
      }
    }
  ]
}