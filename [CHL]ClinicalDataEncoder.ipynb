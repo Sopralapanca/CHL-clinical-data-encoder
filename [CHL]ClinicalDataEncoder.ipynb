{
  "nbformat": 4,
  "nbformat_minor": 0,
  "metadata": {
    "colab": {
      "provenance": [],
      "collapsed_sections": [
        "hOdQP242Ao8M",
        "rCT4jbLiAswe"
      ],
      "include_colab_link": true
    },
    "kernelspec": {
      "name": "python3",
      "display_name": "Python 3"
    },
    "language_info": {
      "name": "python"
    }
  },
  "cells": [
    {
      "cell_type": "markdown",
      "metadata": {
        "id": "view-in-github",
        "colab_type": "text"
      },
      "source": [
        "<a href=\"https://colab.research.google.com/github/Sopralapanca/ComputationalHealthLab/blob/master/%5BCHL%5DClinicalDataEncoder.ipynb\" target=\"_parent\"><img src=\"https://colab.research.google.com/assets/colab-badge.svg\" alt=\"Open In Colab\"/></a>"
      ]
    },
    {
      "cell_type": "markdown",
      "source": [
        "# CHL - Group 5 - Clinical Data Encoder\n",
        "\n",
        "1. Data prep: Replace missng values with numeric numbers.\n",
        "2. CL1: Classify prediction of death 7 years downstream.\n",
        "3. ENC: Train an autoencoder with a transformer architecture.\n",
        "4. CL2: Classify prediciton of death 7 years downstream from the encoded representation.\n",
        "5. RES: Show results"
      ],
      "metadata": {
        "id": "vBUKHHCyU-XP"
      }
    },
    {
      "cell_type": "markdown",
      "source": [
        "## Helper functions"
      ],
      "metadata": {
        "id": "oaK6F7EzxeX-"
      }
    },
    {
      "cell_type": "code",
      "source": [
        "# number of CVD Death that are also Cardiac cause of death (intersection)\n",
        "def test_intersection(df,f1,f2):\n",
        "  return {\n",
        "      \"intersection\" : len(df[df[f1].dropna().astype(int) & df[f2].dropna().astype(int)]),\n",
        "      f\"{f1}_only\" : len(df[df[f1].dropna().astype(int) & ~df[f2].dropna().astype(int)]),\n",
        "      f\"{f2}_only\"  : len(~df[df[f1].dropna().astype(int) & df[f2].dropna().astype(int)]),\n",
        "  }"
      ],
      "metadata": {
        "id": "nXaDbhdnxd9r"
      },
      "execution_count": 94,
      "outputs": []
    },
    {
      "cell_type": "markdown",
      "source": [
        "## 1. Data prep"
      ],
      "metadata": {
        "id": "0DpxCXpBU-NI"
      }
    },
    {
      "cell_type": "markdown",
      "source": [
        "### 1.1 Import and understanding\n",
        "\n",
        "* dates as days since 1998\n",
        "* categories to sequential numbering [nans are not converted]\n",
        "* minmax scaler\n",
        "\n",
        "this process will produce the following variables:\n",
        "\n",
        "* df_raw [original]\n",
        "* df [normalized]\n",
        "* num_encodings {variable:{class_name:number,...},...}\n",
        "* norm_params [min, delta, alpha]"
      ],
      "metadata": {
        "id": "ZSpI3f3KXz0s"
      }
    },
    {
      "cell_type": "code",
      "execution_count": 260,
      "metadata": {
        "id": "x4NajQGR4dMY"
      },
      "outputs": [],
      "source": [
        "%%capture\n",
        "import pandas as pd\n",
        "import numpy as np\n",
        "from pprint import pprint\n",
        "import sklearn as sk\n",
        "\n",
        "# clone the repository in order to download the dataset\n",
        "!git clone https://github.com/Sopralapanca/ComputationalHealthLab.git\n",
        "\n",
        "data_path = \"/content/ComputationalHealthLab/datasets/TiroideCardio_dataset.csv\"\n",
        "# we consider the dates as days (int) from 1998\n",
        "def date_parser(date): \n",
        "    return (pd.to_datetime(date, format='%d/%m/%Y')-pd.to_datetime('01/01/1997', format='%d/%m/%Y')).days\n",
        "\n",
        "date_columns = [\"Data prelievo (1)\",\t\"Data of death\",\t\"CABG \",\t\"Non Fatal AMI (Follow-Up)\",\t\"PCI\", \"Ictus\"]\n",
        "df_raw = pd.read_csv(data_path,parse_dates=date_columns,date_parser=date_parser)\n",
        "df_raw[\"Follow Up Data\"] = df_raw[\"Follow Up Data\"].apply(date_parser) # this needs to be caster aftewrwards to avoid errors"
      ]
    },
    {
      "cell_type": "code",
      "source": [
        "# removing \\n from the name of the columns\n",
        "columns = df_raw.columns\n",
        "new_cols = columns.str.replace('\\n', '_').str.replace('(1)', '').str.replace(' ', '').str.replace('(', '').str.replace(')', '').str.replace('=', '').str.replace('-', '')\n",
        "\n",
        "col_dict = {}\n",
        "for old, new in zip(columns, new_cols):\n",
        "    col_dict[old] = new\n",
        "\n",
        "df_raw = df_raw.rename(columns=col_dict)"
      ],
      "metadata": {
        "id": "BojrTcsBR5T8",
        "colab": {
          "base_uri": "https://localhost:8080/"
        },
        "outputId": "0e3f8c97-b524-4def-d985-f0178fa1b94e"
      },
      "execution_count": 261,
      "outputs": [
        {
          "output_type": "stream",
          "name": "stderr",
          "text": [
            "<ipython-input-261-37e0a4feb8e6>:3: FutureWarning: The default value of regex will change from True to False in a future version.\n",
            "  new_cols = columns.str.replace('\\n', '_').str.replace('(1)', '').str.replace(' ', '').str.replace('(', '').str.replace(')', '').str.replace('=', '').str.replace('-', '')\n",
            "<ipython-input-261-37e0a4feb8e6>:3: FutureWarning: The default value of regex will change from True to False in a future version. In addition, single character regular expressions will *not* be treated as literal strings when regex=True.\n",
            "  new_cols = columns.str.replace('\\n', '_').str.replace('(1)', '').str.replace(' ', '').str.replace('(', '').str.replace(')', '').str.replace('=', '').str.replace('-', '')\n",
            "<ipython-input-261-37e0a4feb8e6>:3: FutureWarning: The default value of regex will change from True to False in a future version. In addition, single character regular expressions will *not* be treated as literal strings when regex=True.\n",
            "  new_cols = columns.str.replace('\\n', '_').str.replace('(1)', '').str.replace(' ', '').str.replace('(', '').str.replace(')', '').str.replace('=', '').str.replace('-', '')\n"
          ]
        }
      ]
    },
    {
      "cell_type": "code",
      "source": [
        "df_raw.info()"
      ],
      "metadata": {
        "colab": {
          "base_uri": "https://localhost:8080/"
        },
        "id": "gz66FpQ-U1qp",
        "outputId": "c1b5d98c-b1cf-4786-a042-6980c9b273ef"
      },
      "execution_count": 262,
      "outputs": [
        {
          "output_type": "stream",
          "name": "stdout",
          "text": [
            "<class 'pandas.core.frame.DataFrame'>\n",
            "RangeIndex: 5820 entries, 0 to 5819\n",
            "Data columns (total 94 columns):\n",
            " #   Column                                  Non-Null Count  Dtype  \n",
            "---  ------                                  --------------  -----  \n",
            " 0   Dataprelievo                            5819 non-null   float64\n",
            " 1   N.patients                              5820 non-null   int64  \n",
            " 2   Age                                     5820 non-null   int64  \n",
            " 3   GenderMale                              5820 non-null   int64  \n",
            " 4   Angina                                  5820 non-null   int64  \n",
            " 5   PreviousCABG                            5820 non-null   int64  \n",
            " 6   PreviousPCI                             5820 non-null   int64  \n",
            " 7   Previous_MyocardialInfarction           5820 non-null   int64  \n",
            " 8   Acute_MyocardialInfarction              5820 non-null   int64  \n",
            " 9   Angiography                             5820 non-null   int64  \n",
            " 10  Vessels                                 3562 non-null   float64\n",
            " 11  CAD                                     5820 non-null   int64  \n",
            " 12  Smoke_Historyofsmoke                    5820 non-null   int64  \n",
            " 13  Diabetes_Historyofdiabetes              5820 non-null   int64  \n",
            " 14  Hypertension_Historyofhypertension      5820 non-null   int64  \n",
            " 15  Dyslipidemia_Hystoryofdyslipidemia      5820 non-null   int64  \n",
            " 16  FamilyhistoryofCAD                      5820 non-null   int64  \n",
            " 17  Obesity_Historyofobesity                5820 non-null   int64  \n",
            " 18  Documentedresting_orexertionalischemia  5820 non-null   int64  \n",
            " 19  PostischemicDilated_Cardiomyopathy      5820 non-null   int64  \n",
            " 20  PrimaryDilated_Cardiomyopathy           5820 non-null   int64  \n",
            " 21  AtrialFibrillation                      5820 non-null   int64  \n",
            " 22  Paroxysmalatrialfibrillation            5820 non-null   int64  \n",
            " 23  BBlockers                               5820 non-null   int64  \n",
            " 24  Amiodarone                              5820 non-null   int64  \n",
            " 25  Calciumchannelblockers                  5820 non-null   int64  \n",
            " 26  Diuretics                               5820 non-null   int64  \n",
            " 27  Antiplatelet                            5820 non-null   int64  \n",
            " 28  Nitrates                                5820 non-null   int64  \n",
            " 29  ACEinhibitors                           5820 non-null   int64  \n",
            " 30  Ipolipemizzanti                         5820 non-null   int64  \n",
            " 31  Antidiabetici                           5820 non-null   int64  \n",
            " 32  Totalmortality                          5820 non-null   int64  \n",
            " 33  NonCVDDeath                             5809 non-null   float64\n",
            " 34  CVDDeath                                5820 non-null   int64  \n",
            " 35  FatalMIorSuddendeath                    5820 non-null   int64  \n",
            " 36  UnKnown                                 5820 non-null   int64  \n",
            " 37  Accident                                5820 non-null   int64  \n",
            " 38  Suicide                                 5820 non-null   int64  \n",
            " 39  Cabg                                    5820 non-null   int64  \n",
            " 40  NonfatalAMI                             5820 non-null   int64  \n",
            " 41  Pci                                     5820 non-null   int64  \n",
            " 42  Totalcholesterol                        5820 non-null   int64  \n",
            " 43  HDL                                     5820 non-null   int64  \n",
            " 44  LDL                                     5820 non-null   float64\n",
            " 45  Triglycerides                           5820 non-null   int64  \n",
            " 46  Glycemia                                5813 non-null   float64\n",
            " 47  TSH                                     5820 non-null   float64\n",
            " 48  fT3                                     5820 non-null   float64\n",
            " 49  fT4                                     5820 non-null   float64\n",
            " 50  Euthyroid                               5820 non-null   float64\n",
            " 51  SubclinicalprimaryhypothyroidismSCH     5820 non-null   float64\n",
            " 52  Subclinicalprimaryhyperthyroidism_SCT   5820 non-null   float64\n",
            " 53  LowT3                                   5820 non-null   float64\n",
            " 54  Ipotiroidismo                           5820 non-null   float64\n",
            " 55  Ipertiroidismo                          5820 non-null   float64\n",
            " 56  Controllo                               5820 non-null   float64\n",
            " 57  PatologiaTIROIDE                        113 non-null    object \n",
            " 58  Normal                                  5820 non-null   int64  \n",
            " 59  SindromeX                               5820 non-null   int64  \n",
            " 60  AMI                                     5820 non-null   int64  \n",
            " 61  PMI                                     5820 non-null   int64  \n",
            " 62  Aritmie                                 5820 non-null   int64  \n",
            " 63  MIN                                     5820 non-null   int64  \n",
            " 64  MIO                                     5820 non-null   int64  \n",
            " 65  Miocardite                              5820 non-null   int64  \n",
            " 66  Pericardite                             5820 non-null   int64  \n",
            " 67  Endocardite                             5820 non-null   int64  \n",
            " 68  Valvulopatie                            5820 non-null   int64  \n",
            " 69  MalattiaVasoAorta                       5820 non-null   int64  \n",
            " 70  Ipertensione                            5820 non-null   int64  \n",
            " 71  CardiopatiaCongenita                    5820 non-null   int64  \n",
            " 72  EmboliaPolmonare                        5820 non-null   int64  \n",
            " 73  EPA                                     5820 non-null   int64  \n",
            " 74  HR                                      5791 non-null   float64\n",
            " 75  Weight                                  5820 non-null   int64  \n",
            " 76  Height                                  5820 non-null   int64  \n",
            " 77  BMI                                     5820 non-null   float64\n",
            " 78  Diastolicbloodpressure                  5820 non-null   int64  \n",
            " 79  Systolicbloodpressure                   5820 non-null   int64  \n",
            " 80  WmsiBas                                 5820 non-null   float64\n",
            " 81  DimSettoIV                              5820 non-null   int64  \n",
            " 82  DimParPost                              5820 non-null   int64  \n",
            " 83  fe                                      5820 non-null   int64  \n",
            " 84  vsx                                     5820 non-null   int64  \n",
            " 85  FollowUpData                            5820 non-null   int64  \n",
            " 86  Dataofdeath                             1469 non-null   float64\n",
            " 87  Causeofdeath                            1469 non-null   object \n",
            " 88  Cardiaccauseofdeath                     5809 non-null   float64\n",
            " 89  Collectedby                             1469 non-null   object \n",
            " 90  CABG                                    635 non-null    float64\n",
            " 91  NonFatalAMIFollowUp                     204 non-null    float64\n",
            " 92  PCI                                     1013 non-null   float64\n",
            " 93  Ictus                                   73 non-null     float64\n",
            "dtypes: float64(24), int64(67), object(3)\n",
            "memory usage: 4.2+ MB\n"
          ]
        }
      ]
    },
    {
      "cell_type": "code",
      "source": [
        "#function to discretize the variables \n",
        "#input: the dataset and the list of variables' names to discretize \n",
        "def discretize_data(df, variables):\n",
        "    dataset = df.copy(deep=True)\n",
        "    encoding = {}\n",
        "    for variable in variables: \n",
        "        #get the unique variable's values \n",
        "        var = dataset[variable].dropna().unique()\n",
        "         \n",
        "        #generate a mapping from the variable's values to the number representation   \n",
        "        mapping = dict(zip(var, range(0, len(var) + 1))) \n",
        " \n",
        "        #add a new colum with the number representation of the variable \n",
        "        dataset[variable] = dataset[variable].map(mapping)\n",
        "        encoding[variable]=mapping\n",
        "    return dataset,encoding"
      ],
      "metadata": {
        "id": "B7v6Au2e4vbn"
      },
      "execution_count": 263,
      "outputs": []
    },
    {
      "cell_type": "code",
      "source": [
        "def undiscretize_data(df, encoding):\n",
        "   \"\"\"to be defined\"\"\"\n",
        "   return np.nan"
      ],
      "metadata": {
        "id": "DAeDrrR4E8gZ"
      },
      "execution_count": 264,
      "outputs": []
    },
    {
      "cell_type": "code",
      "source": [
        "df_raw['Collectedby'] = df_raw['Collectedby'].replace(\"Phisician\",\"Physician\")"
      ],
      "metadata": {
        "id": "O43dqhFo-Xu0"
      },
      "execution_count": 265,
      "outputs": []
    },
    {
      "cell_type": "code",
      "source": [
        "df,num_encodings = discretize_data(df_raw,['PatologiaTIROIDE','Causeofdeath','Collectedby'])"
      ],
      "metadata": {
        "id": "wSniFKg95-eF"
      },
      "execution_count": 266,
      "outputs": []
    },
    {
      "cell_type": "code",
      "source": [
        "# we have at most 17 categorical values, classes having more unique values will be normalized\n",
        "categoricals = [ key for key in df_raw.keys() if len(df_raw[key].value_counts())<=17 ]\n",
        "categoricals.append('N.patients')\n",
        "\n",
        "def normalize_data(df, categorical, alpha=0.05):\n",
        "   \"\"\"MinMax Normalize non categorical data in the range [alpha, 1-alpha]\"\"\"\n",
        "   data=df[set(df.columns)-set(categoricals)]\n",
        "   mini=data.min()\n",
        "   delta=data.max()-mini\n",
        "   data = ((data-mini)/delta)*(1-1*alpha)+alpha\n",
        "   return pd.merge(data,df[categoricals], left_index=True,right_index=True), [mini,delta,alpha]"
      ],
      "metadata": {
        "id": "X-ohOBLkGfJ5"
      },
      "execution_count": 316,
      "outputs": []
    },
    {
      "cell_type": "code",
      "source": [
        "df, norm_params = normalize_data(df_raw,categoricals)"
      ],
      "metadata": {
        "colab": {
          "base_uri": "https://localhost:8080/"
        },
        "id": "4LfvTIjmLAPX",
        "outputId": "8078b22f-bf3f-438c-dd44-5ae5fcbea526"
      },
      "execution_count": 317,
      "outputs": [
        {
          "output_type": "stream",
          "name": "stderr",
          "text": [
            "<ipython-input-316-36e4c4287095>:7: FutureWarning: Passing a set as an indexer is deprecated and will raise in a future version. Use a list instead.\n",
            "  data=df[set(df.columns)-set(categoricals)]\n",
            "<ipython-input-316-36e4c4287095>:8: FutureWarning: The default value of numeric_only in DataFrame.min is deprecated. In a future version, it will default to False. In addition, specifying 'numeric_only=None' is deprecated. Select only valid columns or specify the value of numeric_only to silence this warning.\n",
            "  mini=data.min()\n",
            "<ipython-input-316-36e4c4287095>:9: FutureWarning: The default value of numeric_only in DataFrame.max is deprecated. In a future version, it will default to False. In addition, specifying 'numeric_only=None' is deprecated. Select only valid columns or specify the value of numeric_only to silence this warning.\n",
            "  delta=data.max()-mini\n"
          ]
        }
      ]
    },
    {
      "cell_type": "code",
      "source": [
        "df"
      ],
      "metadata": {
        "colab": {
          "base_uri": "https://localhost:8080/",
          "height": 661
        },
        "id": "8WBIVSzILMe7",
        "outputId": "f59affa5-f186-4a0b-81a3-8642454cdc52"
      },
      "execution_count": 318,
      "outputs": [
        {
          "output_type": "execute_result",
          "data": {
            "text/plain": [
              "           Age       BMI  CABG Causeofdeath  Dataofdeath  Dataprelievo  \\\n",
              "0     0.790116  0.226429   NaN          NaN     0.704515      0.723351   \n",
              "1     0.679651  0.343821   NaN          NaN     0.660050      0.827497   \n",
              "2     0.845349  0.253345   NaN          NaN          NaN      0.944140   \n",
              "3     0.801163  0.351738   NaN          NaN          NaN      0.340472   \n",
              "4     0.845349  0.353548   NaN          NaN     0.358415      0.455033   \n",
              "...        ...       ...   ...          ...          ...           ...   \n",
              "5815  0.812209  0.339298   NaN          NaN          NaN      0.581712   \n",
              "5816  0.756977  0.469131   NaN          NaN     0.570963      0.678473   \n",
              "5817  0.823256  0.395619   NaN          NaN     0.653743      0.790951   \n",
              "5818  0.768023  0.288857   NaN          NaN          NaN      0.834692   \n",
              "5819  0.602326  0.373452   NaN          NaN          NaN      0.847947   \n",
              "\n",
              "      Diastolicbloodpressure  DimSettoIV  FollowUpData  Glycemia  ...  \\\n",
              "0                   0.287500    0.303333      0.695092  0.101162  ...   \n",
              "1                   0.366667    0.208333      0.651268  0.146304  ...   \n",
              "2                   0.129167    0.335000      0.732390  0.112196  ...   \n",
              "3                   0.366667    0.240000      0.860756  0.097149  ...   \n",
              "4                   0.327083    0.176667      0.353975  0.128247  ...   \n",
              "...                      ...         ...           ...       ...  ...   \n",
              "5815                0.445833    0.240000      0.872100  0.097149  ...   \n",
              "5816                0.445833    0.240000      0.563463  0.170380  ...   \n",
              "5817                0.327083    0.240000      0.645052  0.111193  ...   \n",
              "5818                0.445833    0.303333      0.858580  0.094139  ...   \n",
              "5819                0.366667    0.176667      0.859046  0.120222  ...   \n",
              "\n",
              "      Valvulopatie  MalattiaVasoAorta  Ipertensione  CardiopatiaCongenita  \\\n",
              "0                1                  0             0                     0   \n",
              "1                0                  0             1                     0   \n",
              "2                0                  1             1                     0   \n",
              "3                0                  0             1                     0   \n",
              "4                0                  0             0                     1   \n",
              "...            ...                ...           ...                   ...   \n",
              "5815             1                  0             0                     0   \n",
              "5816             0                  0             1                     0   \n",
              "5817             1                  0             1                     0   \n",
              "5818             0                  0             1                     0   \n",
              "5819             0                  0             1                     0   \n",
              "\n",
              "      EmboliaPolmonare  EPA  DimParPost Cardiaccauseofdeath  \\\n",
              "0                    0    0          11                 0.0   \n",
              "1                    0    0          10                 0.0   \n",
              "2                    0    1          11                 0.0   \n",
              "3                    0    0          11                 0.0   \n",
              "4                    0    0           9                 0.0   \n",
              "...                ...  ...         ...                 ...   \n",
              "5815                 0    0          10                 NaN   \n",
              "5816                 0    0          11                 NaN   \n",
              "5817                 0    0           9                 NaN   \n",
              "5818                 0    0           9                 NaN   \n",
              "5819                 0    0          11                 NaN   \n",
              "\n",
              "                          Collectedby  N.patients  \n",
              "0     Relatives (Telephone interview)         395  \n",
              "1     Relatives (Telephone interview)        8778  \n",
              "2                                 NaN        8986  \n",
              "3                                 NaN        2272  \n",
              "4     Relatives (Telephone interview)        3679  \n",
              "...                               ...         ...  \n",
              "5815                              NaN         668  \n",
              "5816  Relatives (Telephone interview)        1589  \n",
              "5817  Relatives (Telephone interview)        1893  \n",
              "5818                              NaN        1101  \n",
              "5819                              NaN        1193  \n",
              "\n",
              "[5820 rows x 94 columns]"
            ],
            "text/html": [
              "\n",
              "  <div id=\"df-b0829c2f-51f3-4f74-9cfe-0e557339f5d5\">\n",
              "    <div class=\"colab-df-container\">\n",
              "      <div>\n",
              "<style scoped>\n",
              "    .dataframe tbody tr th:only-of-type {\n",
              "        vertical-align: middle;\n",
              "    }\n",
              "\n",
              "    .dataframe tbody tr th {\n",
              "        vertical-align: top;\n",
              "    }\n",
              "\n",
              "    .dataframe thead th {\n",
              "        text-align: right;\n",
              "    }\n",
              "</style>\n",
              "<table border=\"1\" class=\"dataframe\">\n",
              "  <thead>\n",
              "    <tr style=\"text-align: right;\">\n",
              "      <th></th>\n",
              "      <th>Age</th>\n",
              "      <th>BMI</th>\n",
              "      <th>CABG</th>\n",
              "      <th>Causeofdeath</th>\n",
              "      <th>Dataofdeath</th>\n",
              "      <th>Dataprelievo</th>\n",
              "      <th>Diastolicbloodpressure</th>\n",
              "      <th>DimSettoIV</th>\n",
              "      <th>FollowUpData</th>\n",
              "      <th>Glycemia</th>\n",
              "      <th>...</th>\n",
              "      <th>Valvulopatie</th>\n",
              "      <th>MalattiaVasoAorta</th>\n",
              "      <th>Ipertensione</th>\n",
              "      <th>CardiopatiaCongenita</th>\n",
              "      <th>EmboliaPolmonare</th>\n",
              "      <th>EPA</th>\n",
              "      <th>DimParPost</th>\n",
              "      <th>Cardiaccauseofdeath</th>\n",
              "      <th>Collectedby</th>\n",
              "      <th>N.patients</th>\n",
              "    </tr>\n",
              "  </thead>\n",
              "  <tbody>\n",
              "    <tr>\n",
              "      <th>0</th>\n",
              "      <td>0.790116</td>\n",
              "      <td>0.226429</td>\n",
              "      <td>NaN</td>\n",
              "      <td>NaN</td>\n",
              "      <td>0.704515</td>\n",
              "      <td>0.723351</td>\n",
              "      <td>0.287500</td>\n",
              "      <td>0.303333</td>\n",
              "      <td>0.695092</td>\n",
              "      <td>0.101162</td>\n",
              "      <td>...</td>\n",
              "      <td>1</td>\n",
              "      <td>0</td>\n",
              "      <td>0</td>\n",
              "      <td>0</td>\n",
              "      <td>0</td>\n",
              "      <td>0</td>\n",
              "      <td>11</td>\n",
              "      <td>0.0</td>\n",
              "      <td>Relatives (Telephone interview)</td>\n",
              "      <td>395</td>\n",
              "    </tr>\n",
              "    <tr>\n",
              "      <th>1</th>\n",
              "      <td>0.679651</td>\n",
              "      <td>0.343821</td>\n",
              "      <td>NaN</td>\n",
              "      <td>NaN</td>\n",
              "      <td>0.660050</td>\n",
              "      <td>0.827497</td>\n",
              "      <td>0.366667</td>\n",
              "      <td>0.208333</td>\n",
              "      <td>0.651268</td>\n",
              "      <td>0.146304</td>\n",
              "      <td>...</td>\n",
              "      <td>0</td>\n",
              "      <td>0</td>\n",
              "      <td>1</td>\n",
              "      <td>0</td>\n",
              "      <td>0</td>\n",
              "      <td>0</td>\n",
              "      <td>10</td>\n",
              "      <td>0.0</td>\n",
              "      <td>Relatives (Telephone interview)</td>\n",
              "      <td>8778</td>\n",
              "    </tr>\n",
              "    <tr>\n",
              "      <th>2</th>\n",
              "      <td>0.845349</td>\n",
              "      <td>0.253345</td>\n",
              "      <td>NaN</td>\n",
              "      <td>NaN</td>\n",
              "      <td>NaN</td>\n",
              "      <td>0.944140</td>\n",
              "      <td>0.129167</td>\n",
              "      <td>0.335000</td>\n",
              "      <td>0.732390</td>\n",
              "      <td>0.112196</td>\n",
              "      <td>...</td>\n",
              "      <td>0</td>\n",
              "      <td>1</td>\n",
              "      <td>1</td>\n",
              "      <td>0</td>\n",
              "      <td>0</td>\n",
              "      <td>1</td>\n",
              "      <td>11</td>\n",
              "      <td>0.0</td>\n",
              "      <td>NaN</td>\n",
              "      <td>8986</td>\n",
              "    </tr>\n",
              "    <tr>\n",
              "      <th>3</th>\n",
              "      <td>0.801163</td>\n",
              "      <td>0.351738</td>\n",
              "      <td>NaN</td>\n",
              "      <td>NaN</td>\n",
              "      <td>NaN</td>\n",
              "      <td>0.340472</td>\n",
              "      <td>0.366667</td>\n",
              "      <td>0.240000</td>\n",
              "      <td>0.860756</td>\n",
              "      <td>0.097149</td>\n",
              "      <td>...</td>\n",
              "      <td>0</td>\n",
              "      <td>0</td>\n",
              "      <td>1</td>\n",
              "      <td>0</td>\n",
              "      <td>0</td>\n",
              "      <td>0</td>\n",
              "      <td>11</td>\n",
              "      <td>0.0</td>\n",
              "      <td>NaN</td>\n",
              "      <td>2272</td>\n",
              "    </tr>\n",
              "    <tr>\n",
              "      <th>4</th>\n",
              "      <td>0.845349</td>\n",
              "      <td>0.353548</td>\n",
              "      <td>NaN</td>\n",
              "      <td>NaN</td>\n",
              "      <td>0.358415</td>\n",
              "      <td>0.455033</td>\n",
              "      <td>0.327083</td>\n",
              "      <td>0.176667</td>\n",
              "      <td>0.353975</td>\n",
              "      <td>0.128247</td>\n",
              "      <td>...</td>\n",
              "      <td>0</td>\n",
              "      <td>0</td>\n",
              "      <td>0</td>\n",
              "      <td>1</td>\n",
              "      <td>0</td>\n",
              "      <td>0</td>\n",
              "      <td>9</td>\n",
              "      <td>0.0</td>\n",
              "      <td>Relatives (Telephone interview)</td>\n",
              "      <td>3679</td>\n",
              "    </tr>\n",
              "    <tr>\n",
              "      <th>...</th>\n",
              "      <td>...</td>\n",
              "      <td>...</td>\n",
              "      <td>...</td>\n",
              "      <td>...</td>\n",
              "      <td>...</td>\n",
              "      <td>...</td>\n",
              "      <td>...</td>\n",
              "      <td>...</td>\n",
              "      <td>...</td>\n",
              "      <td>...</td>\n",
              "      <td>...</td>\n",
              "      <td>...</td>\n",
              "      <td>...</td>\n",
              "      <td>...</td>\n",
              "      <td>...</td>\n",
              "      <td>...</td>\n",
              "      <td>...</td>\n",
              "      <td>...</td>\n",
              "      <td>...</td>\n",
              "      <td>...</td>\n",
              "      <td>...</td>\n",
              "    </tr>\n",
              "    <tr>\n",
              "      <th>5815</th>\n",
              "      <td>0.812209</td>\n",
              "      <td>0.339298</td>\n",
              "      <td>NaN</td>\n",
              "      <td>NaN</td>\n",
              "      <td>NaN</td>\n",
              "      <td>0.581712</td>\n",
              "      <td>0.445833</td>\n",
              "      <td>0.240000</td>\n",
              "      <td>0.872100</td>\n",
              "      <td>0.097149</td>\n",
              "      <td>...</td>\n",
              "      <td>1</td>\n",
              "      <td>0</td>\n",
              "      <td>0</td>\n",
              "      <td>0</td>\n",
              "      <td>0</td>\n",
              "      <td>0</td>\n",
              "      <td>10</td>\n",
              "      <td>NaN</td>\n",
              "      <td>NaN</td>\n",
              "      <td>668</td>\n",
              "    </tr>\n",
              "    <tr>\n",
              "      <th>5816</th>\n",
              "      <td>0.756977</td>\n",
              "      <td>0.469131</td>\n",
              "      <td>NaN</td>\n",
              "      <td>NaN</td>\n",
              "      <td>0.570963</td>\n",
              "      <td>0.678473</td>\n",
              "      <td>0.445833</td>\n",
              "      <td>0.240000</td>\n",
              "      <td>0.563463</td>\n",
              "      <td>0.170380</td>\n",
              "      <td>...</td>\n",
              "      <td>0</td>\n",
              "      <td>0</td>\n",
              "      <td>1</td>\n",
              "      <td>0</td>\n",
              "      <td>0</td>\n",
              "      <td>0</td>\n",
              "      <td>11</td>\n",
              "      <td>NaN</td>\n",
              "      <td>Relatives (Telephone interview)</td>\n",
              "      <td>1589</td>\n",
              "    </tr>\n",
              "    <tr>\n",
              "      <th>5817</th>\n",
              "      <td>0.823256</td>\n",
              "      <td>0.395619</td>\n",
              "      <td>NaN</td>\n",
              "      <td>NaN</td>\n",
              "      <td>0.653743</td>\n",
              "      <td>0.790951</td>\n",
              "      <td>0.327083</td>\n",
              "      <td>0.240000</td>\n",
              "      <td>0.645052</td>\n",
              "      <td>0.111193</td>\n",
              "      <td>...</td>\n",
              "      <td>1</td>\n",
              "      <td>0</td>\n",
              "      <td>1</td>\n",
              "      <td>0</td>\n",
              "      <td>0</td>\n",
              "      <td>0</td>\n",
              "      <td>9</td>\n",
              "      <td>NaN</td>\n",
              "      <td>Relatives (Telephone interview)</td>\n",
              "      <td>1893</td>\n",
              "    </tr>\n",
              "    <tr>\n",
              "      <th>5818</th>\n",
              "      <td>0.768023</td>\n",
              "      <td>0.288857</td>\n",
              "      <td>NaN</td>\n",
              "      <td>NaN</td>\n",
              "      <td>NaN</td>\n",
              "      <td>0.834692</td>\n",
              "      <td>0.445833</td>\n",
              "      <td>0.303333</td>\n",
              "      <td>0.858580</td>\n",
              "      <td>0.094139</td>\n",
              "      <td>...</td>\n",
              "      <td>0</td>\n",
              "      <td>0</td>\n",
              "      <td>1</td>\n",
              "      <td>0</td>\n",
              "      <td>0</td>\n",
              "      <td>0</td>\n",
              "      <td>9</td>\n",
              "      <td>NaN</td>\n",
              "      <td>NaN</td>\n",
              "      <td>1101</td>\n",
              "    </tr>\n",
              "    <tr>\n",
              "      <th>5819</th>\n",
              "      <td>0.602326</td>\n",
              "      <td>0.373452</td>\n",
              "      <td>NaN</td>\n",
              "      <td>NaN</td>\n",
              "      <td>NaN</td>\n",
              "      <td>0.847947</td>\n",
              "      <td>0.366667</td>\n",
              "      <td>0.176667</td>\n",
              "      <td>0.859046</td>\n",
              "      <td>0.120222</td>\n",
              "      <td>...</td>\n",
              "      <td>0</td>\n",
              "      <td>0</td>\n",
              "      <td>1</td>\n",
              "      <td>0</td>\n",
              "      <td>0</td>\n",
              "      <td>0</td>\n",
              "      <td>11</td>\n",
              "      <td>NaN</td>\n",
              "      <td>NaN</td>\n",
              "      <td>1193</td>\n",
              "    </tr>\n",
              "  </tbody>\n",
              "</table>\n",
              "<p>5820 rows × 94 columns</p>\n",
              "</div>\n",
              "      <button class=\"colab-df-convert\" onclick=\"convertToInteractive('df-b0829c2f-51f3-4f74-9cfe-0e557339f5d5')\"\n",
              "              title=\"Convert this dataframe to an interactive table.\"\n",
              "              style=\"display:none;\">\n",
              "        \n",
              "  <svg xmlns=\"http://www.w3.org/2000/svg\" height=\"24px\"viewBox=\"0 0 24 24\"\n",
              "       width=\"24px\">\n",
              "    <path d=\"M0 0h24v24H0V0z\" fill=\"none\"/>\n",
              "    <path d=\"M18.56 5.44l.94 2.06.94-2.06 2.06-.94-2.06-.94-.94-2.06-.94 2.06-2.06.94zm-11 1L8.5 8.5l.94-2.06 2.06-.94-2.06-.94L8.5 2.5l-.94 2.06-2.06.94zm10 10l.94 2.06.94-2.06 2.06-.94-2.06-.94-.94-2.06-.94 2.06-2.06.94z\"/><path d=\"M17.41 7.96l-1.37-1.37c-.4-.4-.92-.59-1.43-.59-.52 0-1.04.2-1.43.59L10.3 9.45l-7.72 7.72c-.78.78-.78 2.05 0 2.83L4 21.41c.39.39.9.59 1.41.59.51 0 1.02-.2 1.41-.59l7.78-7.78 2.81-2.81c.8-.78.8-2.07 0-2.86zM5.41 20L4 18.59l7.72-7.72 1.47 1.35L5.41 20z\"/>\n",
              "  </svg>\n",
              "      </button>\n",
              "      \n",
              "  <style>\n",
              "    .colab-df-container {\n",
              "      display:flex;\n",
              "      flex-wrap:wrap;\n",
              "      gap: 12px;\n",
              "    }\n",
              "\n",
              "    .colab-df-convert {\n",
              "      background-color: #E8F0FE;\n",
              "      border: none;\n",
              "      border-radius: 50%;\n",
              "      cursor: pointer;\n",
              "      display: none;\n",
              "      fill: #1967D2;\n",
              "      height: 32px;\n",
              "      padding: 0 0 0 0;\n",
              "      width: 32px;\n",
              "    }\n",
              "\n",
              "    .colab-df-convert:hover {\n",
              "      background-color: #E2EBFA;\n",
              "      box-shadow: 0px 1px 2px rgba(60, 64, 67, 0.3), 0px 1px 3px 1px rgba(60, 64, 67, 0.15);\n",
              "      fill: #174EA6;\n",
              "    }\n",
              "\n",
              "    [theme=dark] .colab-df-convert {\n",
              "      background-color: #3B4455;\n",
              "      fill: #D2E3FC;\n",
              "    }\n",
              "\n",
              "    [theme=dark] .colab-df-convert:hover {\n",
              "      background-color: #434B5C;\n",
              "      box-shadow: 0px 1px 3px 1px rgba(0, 0, 0, 0.15);\n",
              "      filter: drop-shadow(0px 1px 2px rgba(0, 0, 0, 0.3));\n",
              "      fill: #FFFFFF;\n",
              "    }\n",
              "  </style>\n",
              "\n",
              "      <script>\n",
              "        const buttonEl =\n",
              "          document.querySelector('#df-b0829c2f-51f3-4f74-9cfe-0e557339f5d5 button.colab-df-convert');\n",
              "        buttonEl.style.display =\n",
              "          google.colab.kernel.accessAllowed ? 'block' : 'none';\n",
              "\n",
              "        async function convertToInteractive(key) {\n",
              "          const element = document.querySelector('#df-b0829c2f-51f3-4f74-9cfe-0e557339f5d5');\n",
              "          const dataTable =\n",
              "            await google.colab.kernel.invokeFunction('convertToInteractive',\n",
              "                                                     [key], {});\n",
              "          if (!dataTable) return;\n",
              "\n",
              "          const docLinkHtml = 'Like what you see? Visit the ' +\n",
              "            '<a target=\"_blank\" href=https://colab.research.google.com/notebooks/data_table.ipynb>data table notebook</a>'\n",
              "            + ' to learn more about interactive tables.';\n",
              "          element.innerHTML = '';\n",
              "          dataTable['output_type'] = 'display_data';\n",
              "          await google.colab.output.renderOutput(dataTable, element);\n",
              "          const docLink = document.createElement('div');\n",
              "          docLink.innerHTML = docLinkHtml;\n",
              "          element.appendChild(docLink);\n",
              "        }\n",
              "      </script>\n",
              "    </div>\n",
              "  </div>\n",
              "  "
            ]
          },
          "metadata": {},
          "execution_count": 318
        }
      ]
    },
    {
      "cell_type": "code",
      "source": [
        "# count all the nan values in each column\n",
        "for key,val in df.isna().sum().to_dict().items():\n",
        "  if val>0:\n",
        "    print(f\"{key} .............. {val}\")"
      ],
      "metadata": {
        "colab": {
          "base_uri": "https://localhost:8080/"
        },
        "id": "Z9aMdB5FVEM_",
        "outputId": "2885412d-7780-4c90-ee6a-b4d3eb5e4a74"
      },
      "execution_count": 319,
      "outputs": [
        {
          "output_type": "stream",
          "name": "stdout",
          "text": [
            "CABG .............. 5185\n",
            "Causeofdeath .............. 5820\n",
            "Dataofdeath .............. 4351\n",
            "Dataprelievo .............. 1\n",
            "Glycemia .............. 7\n",
            "HR .............. 29\n",
            "Ictus .............. 5747\n",
            "NonFatalAMIFollowUp .............. 5616\n",
            "PCI .............. 4807\n",
            "PatologiaTIROIDE .............. 5820\n",
            "Vessels .............. 2258\n",
            "NonCVDDeath .............. 11\n",
            "Cardiaccauseofdeath .............. 11\n",
            "Collectedby .............. 4351\n"
          ]
        }
      ]
    },
    {
      "cell_type": "markdown",
      "source": [
        "both Total death and and CVD Death have no nans"
      ],
      "metadata": {
        "id": "2YmTXq2ueR1W"
      }
    },
    {
      "cell_type": "code",
      "source": [
        "# count nan values in each row and compute the mean\n",
        "df.isna().sum(axis=1).mean()"
      ],
      "metadata": {
        "colab": {
          "base_uri": "https://localhost:8080/"
        },
        "id": "3rBSunb4VItY",
        "outputId": "65e85cd7-0535-4226-a0cd-2793e2beeca3"
      },
      "execution_count": 320,
      "outputs": [
        {
          "output_type": "execute_result",
          "data": {
            "text/plain": [
              "7.56254295532646"
            ]
          },
          "metadata": {},
          "execution_count": 320
        }
      ]
    },
    {
      "cell_type": "markdown",
      "source": [
        "Each patient has 7 missing values on average"
      ],
      "metadata": {
        "id": "97p83Sa0VLYn"
      }
    },
    {
      "cell_type": "markdown",
      "source": [
        "### 1.2 Target and missing data"
      ],
      "metadata": {
        "id": "bpQqRhaYX6VH"
      }
    },
    {
      "cell_type": "markdown",
      "source": [
        "As the target label, we consider the survival 7 years downstream.<br>\n",
        "We ideally want to classify only the cardiac cause of death."
      ],
      "metadata": {
        "id": "oQgpU6JkyuOA"
      }
    },
    {
      "cell_type": "markdown",
      "source": [
        "#### 1.2.1 Matching death bool"
      ],
      "metadata": {
        "id": "HRT2P4JsvIpc"
      }
    },
    {
      "cell_type": "code",
      "source": [
        "df[\"Totalmortality\"].value_counts()"
      ],
      "metadata": {
        "colab": {
          "base_uri": "https://localhost:8080/"
        },
        "id": "c8O8_auydRdy",
        "outputId": "d81a4977-10a2-4831-9d8a-2d1a8601ee63"
      },
      "execution_count": 322,
      "outputs": [
        {
          "output_type": "execute_result",
          "data": {
            "text/plain": [
              "0    4351\n",
              "1    1469\n",
              "Name: Totalmortality, dtype: int64"
            ]
          },
          "metadata": {},
          "execution_count": 322
        }
      ]
    },
    {
      "cell_type": "code",
      "source": [
        "df[\"Dataofdeath\"].isna().value_counts()"
      ],
      "metadata": {
        "colab": {
          "base_uri": "https://localhost:8080/"
        },
        "id": "0ej_4HUBdf9Y",
        "outputId": "03bafa1b-dc83-4ad0-8163-cdafa66e977b"
      },
      "execution_count": 323,
      "outputs": [
        {
          "output_type": "execute_result",
          "data": {
            "text/plain": [
              "True     4351\n",
              "False    1469\n",
              "Name: Dataofdeath, dtype: int64"
            ]
          },
          "metadata": {},
          "execution_count": 323
        }
      ]
    },
    {
      "cell_type": "markdown",
      "source": [
        "From the dataset we can see that we have NO MISSING VALUES on \"Data of death\" because the number of missing values is the same number of survived patients in totl mortality."
      ],
      "metadata": {
        "id": "nnBfj6QDkZh6"
      }
    },
    {
      "cell_type": "code",
      "source": [
        "df[\"Cardiaccauseofdeath\"].value_counts()"
      ],
      "metadata": {
        "colab": {
          "base_uri": "https://localhost:8080/"
        },
        "id": "PeqRfw_3Aeb-",
        "outputId": "c787da50-ad1d-45d1-e2df-f23802565307"
      },
      "execution_count": 324,
      "outputs": [
        {
          "output_type": "execute_result",
          "data": {
            "text/plain": [
              "0.0    5297\n",
              "1.0     512\n",
              "Name: Cardiaccauseofdeath, dtype: int64"
            ]
          },
          "metadata": {},
          "execution_count": 324
        }
      ]
    },
    {
      "cell_type": "markdown",
      "source": [
        "As we can see we do not have many data, only 10% are deaths caused by cardiac arrest. So the approach we choose is to train the autoencoder on the whole dataset so to extract information from more data, then we train the classifer on the cardiac arrest alone and we infer on the whole dataset."
      ],
      "metadata": {
        "id": "VssgYWFoa-Dm"
      }
    },
    {
      "cell_type": "markdown",
      "source": [
        "#### 1.2.2 Matching death cause"
      ],
      "metadata": {
        "id": "gQJDjDo9utXm"
      }
    },
    {
      "cell_type": "code",
      "source": [
        "# number of CVD Death that are also Cardiac cause of death (intersection)\n",
        "df[df[\"Cardiaccauseofdeath\"].dropna().astype(int) & df[\"CVDDeath\"].dropna().astype(int)][\"CVDDeath\"].sum()"
      ],
      "metadata": {
        "colab": {
          "base_uri": "https://localhost:8080/"
        },
        "id": "bLKtheMDo_Ol",
        "outputId": "ea0ac797-2838-4acb-a6b4-8e8c88106729"
      },
      "execution_count": 326,
      "outputs": [
        {
          "output_type": "execute_result",
          "data": {
            "text/plain": [
              "343"
            ]
          },
          "metadata": {},
          "execution_count": 326
        }
      ]
    },
    {
      "cell_type": "code",
      "source": [
        "# number of CVD Death that are NOT Cardiac cause of death (only CVD)\n",
        "df[~df[\"Cardiaccauseofdeath\"].dropna().astype(int) & df[\"CVDDeath\"].dropna().astype(int)][\"CVDDeath\"].sum()"
      ],
      "metadata": {
        "colab": {
          "base_uri": "https://localhost:8080/"
        },
        "id": "29vtpnFCqL1M",
        "outputId": "130cb883-7ee4-4d9f-b3b5-5861b5f7132a"
      },
      "execution_count": 329,
      "outputs": [
        {
          "output_type": "execute_result",
          "data": {
            "text/plain": [
              "68"
            ]
          },
          "metadata": {},
          "execution_count": 329
        }
      ]
    },
    {
      "cell_type": "code",
      "source": [
        "# number of CVD Death that are NOT Cardiac cause of death (only Cardiac)\n",
        "df[df[\"Cardiaccauseofdeath\"].dropna().astype(int) & ~df[\"CVDDeath\"].dropna().astype(int)][\"Cardiaccauseofdeath\"].sum()"
      ],
      "metadata": {
        "colab": {
          "base_uri": "https://localhost:8080/"
        },
        "id": "vokRE2VyrttM",
        "outputId": "5ba088ca-f0ea-41fb-cb37-ac93e1b6b28a"
      },
      "execution_count": 330,
      "outputs": [
        {
          "output_type": "execute_result",
          "data": {
            "text/plain": [
              "169.0"
            ]
          },
          "metadata": {},
          "execution_count": 330
        }
      ]
    },
    {
      "cell_type": "markdown",
      "source": [
        "![Screenshot from 2023-04-24 12-00-04.png](data:image/png;base64,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)"
      ],
      "metadata": {
        "id": "2KjXoFX1tT4N"
      }
    },
    {
      "cell_type": "markdown",
      "source": [
        "We choose as a target the union of the two pathologies"
      ],
      "metadata": {
        "id": "uJji0oI_jlan"
      }
    },
    {
      "cell_type": "markdown",
      "source": [
        "#### 1.2.3 Target"
      ],
      "metadata": {
        "id": "-EOxgtYFvU_F"
      }
    },
    {
      "cell_type": "code",
      "source": [
        "# target column will have:\n",
        "#   1 if the patient died within 7 years of the first blood draw\n",
        "#   0 otherwise\n",
        "# since missing values in 'Date of death' column are considered as person that are still alive, they will have 0 in the target column\n",
        "# 'target' = \"is dead before 7 years by cardiac cause\"\n",
        "df['target']= (((df['Dataofdeath']-df['Dataprelievo'])/365 <= 7) & (df['Cardiaccauseofdeath'].dropna().astype(int) | df['CVDDeath'] ))\n",
        "df['target'] = df['target'].astype(int)\n",
        "df['target'].value_counts()"
      ],
      "metadata": {
        "colab": {
          "base_uri": "https://localhost:8080/"
        },
        "id": "qibSmOJWF2wM",
        "outputId": "83ec486f-97dd-4020-b7c3-d97acdd2b068"
      },
      "execution_count": 336,
      "outputs": [
        {
          "output_type": "execute_result",
          "data": {
            "text/plain": [
              "0    5240\n",
              "1     580\n",
              "Name: target, dtype: int64"
            ]
          },
          "metadata": {},
          "execution_count": 336
        }
      ]
    },
    {
      "cell_type": "code",
      "source": [
        "df['target'].isnull().any()"
      ],
      "metadata": {
        "colab": {
          "base_uri": "https://localhost:8080/"
        },
        "id": "cq6MG9Wlw81h",
        "outputId": "b40a392a-184f-4e9e-c1c6-cccdc1f6b418"
      },
      "execution_count": 337,
      "outputs": [
        {
          "output_type": "execute_result",
          "data": {
            "text/plain": [
              "False"
            ]
          },
          "metadata": {},
          "execution_count": 337
        }
      ]
    },
    {
      "cell_type": "code",
      "source": [
        "# how many male and female are in the dataset\n",
        "df['GenderMale'].value_counts()"
      ],
      "metadata": {
        "colab": {
          "base_uri": "https://localhost:8080/"
        },
        "id": "ATXqbRIuWtYB",
        "outputId": "a1d35a5b-7dfd-4419-8541-7cc81a492725"
      },
      "execution_count": 341,
      "outputs": [
        {
          "output_type": "execute_result",
          "data": {
            "text/plain": [
              "1    4050\n",
              "0    1770\n",
              "Name: GenderMale, dtype: int64"
            ]
          },
          "metadata": {},
          "execution_count": 341
        }
      ]
    },
    {
      "cell_type": "code",
      "source": [
        "# histogram of the age of the patients in the dataset differentiating who has a cardiac cause of death and who has not\n",
        "df['Age'].hist(by=df['target'])"
      ],
      "metadata": {
        "colab": {
          "base_uri": "https://localhost:8080/",
          "height": 494
        },
        "id": "UtDWEpEZWyZw",
        "outputId": "89129525-200d-44d8-8eef-ff81519f3770"
      },
      "execution_count": 339,
      "outputs": [
        {
          "output_type": "execute_result",
          "data": {
            "text/plain": [
              "array([<Axes: title={'center': '0'}>, <Axes: title={'center': '1'}>],\n",
              "      dtype=object)"
            ]
          },
          "metadata": {},
          "execution_count": 339
        },
        {
          "output_type": "display_data",
          "data": {
            "text/plain": [
              "<Figure size 640x480 with 2 Axes>"
            ],
            "image/png": "[encoded data removed]"
          },
          "metadata": {}
        }
      ]
    },
    {
      "cell_type": "code",
      "source": [
        "# altri plot?"
      ],
      "metadata": {
        "id": "DFQhimxdXnbq"
      },
      "execution_count": null,
      "outputs": []
    },
    {
      "cell_type": "markdown",
      "source": [
        "#### 1.2.4 Matching CABG , Cabg"
      ],
      "metadata": {
        "id": "OXoOkNNdvZ96"
      }
    },
    {
      "cell_type": "code",
      "source": [
        "df['CABG '].dropna()"
      ],
      "metadata": {
        "colab": {
          "base_uri": "https://localhost:8080/"
        },
        "id": "gEdYqk3PxGxl",
        "outputId": "57f39f06-066b-4246-cb2c-ee6de3e7b6f3"
      },
      "execution_count": 87,
      "outputs": [
        {
          "output_type": "execute_result",
          "data": {
            "text/plain": [
              "12       11/1/2011\n",
              "32      29/11/2005\n",
              "36       24/9/2013\n",
              "60       23/2/2009\n",
              "68       1/12/2007\n",
              "           ...    \n",
              "5789     12/4/2008\n",
              "5794     1/12/2009\n",
              "5795      4/2/2004\n",
              "5799      8/5/2007\n",
              "5802     30/3/2009\n",
              "Name: CABG , Length: 635, dtype: object"
            ]
          },
          "metadata": {},
          "execution_count": 87
        }
      ]
    },
    {
      "cell_type": "code",
      "source": [
        "pd.set_option('display.max_rows', 1000)\n",
        "print(len(df[df['Cabg']==1]))\n",
        "df[df['Cabg']==1][['Cabg','CABG']].isna().value_counts()\n",
        "#with this command we see that we do not have missing dates for the CABG test"
      ],
      "metadata": {
        "colab": {
          "base_uri": "https://localhost:8080/"
        },
        "id": "TCxlehbeveLC",
        "outputId": "79594b7e-4ceb-44ef-c8ee-a75d1d31e0e7"
      },
      "execution_count": 346,
      "outputs": [
        {
          "output_type": "stream",
          "name": "stdout",
          "text": [
            "635\n"
          ]
        },
        {
          "output_type": "execute_result",
          "data": {
            "text/plain": [
              "Cabg   CABG \n",
              "False  False    635\n",
              "dtype: int64"
            ]
          },
          "metadata": {},
          "execution_count": 346
        }
      ]
    },
    {
      "cell_type": "markdown",
      "source": [
        "#### 1.2.5 Matching PCI , Pci"
      ],
      "metadata": {
        "id": "rqto8C1avnOE"
      }
    },
    {
      "cell_type": "code",
      "source": [
        "print(len(df[df['Pci']==1]))\n",
        "df[df['Pci']==1][['Pci','PCI']]['PCI'].isna().value_counts()\n",
        "#with this command we see that we do not have missing dates for the CABG test"
      ],
      "metadata": {
        "colab": {
          "base_uri": "https://localhost:8080/"
        },
        "id": "tChygXEsvnOG",
        "outputId": "e63576da-b069-4ddd-8fe4-e9d7e4f46bd7"
      },
      "execution_count": 347,
      "outputs": [
        {
          "output_type": "stream",
          "name": "stdout",
          "text": [
            "1013\n"
          ]
        },
        {
          "output_type": "execute_result",
          "data": {
            "text/plain": [
              "False    1013\n",
              "Name: PCI, dtype: int64"
            ]
          },
          "metadata": {},
          "execution_count": 347
        }
      ]
    },
    {
      "cell_type": "markdown",
      "source": [
        "#### 1.2.5 Matching AMI , AMI followup"
      ],
      "metadata": {
        "id": "owfCkVyHvnha"
      }
    },
    {
      "cell_type": "code",
      "source": [
        "df.keys()"
      ],
      "metadata": {
        "colab": {
          "base_uri": "https://localhost:8080/"
        },
        "id": "6wAUxBlZQbuC",
        "outputId": "3b26befc-99d0-4659-ba97-33e91f261659"
      },
      "execution_count": 350,
      "outputs": [
        {
          "output_type": "execute_result",
          "data": {
            "text/plain": [
              "Index(['Age', 'BMI', 'CABG', 'Causeofdeath', 'Dataofdeath', 'Dataprelievo',\n",
              "       'Diastolicbloodpressure', 'DimSettoIV', 'FollowUpData', 'Glycemia',\n",
              "       'HDL', 'HR', 'Height', 'Ictus', 'LDL', 'NonFatalAMIFollowUp', 'PCI',\n",
              "       'PatologiaTIROIDE', 'Systolicbloodpressure', 'TSH', 'Totalcholesterol',\n",
              "       'Triglycerides', 'Weight', 'WmsiBas', 'fT3', 'fT4', 'fe', 'vsx',\n",
              "       'GenderMale', 'Angina', 'PreviousCABG', 'PreviousPCI',\n",
              "       'Previous_MyocardialInfarction', 'Acute_MyocardialInfarction',\n",
              "       'Angiography', 'Vessels', 'CAD', 'Smoke_Historyofsmoke',\n",
              "       'Diabetes_Historyofdiabetes', 'Hypertension_Historyofhypertension',\n",
              "       'Dyslipidemia_Hystoryofdyslipidemia', 'FamilyhistoryofCAD',\n",
              "       'Obesity_Historyofobesity', 'Documentedresting_orexertionalischemia',\n",
              "       'PostischemicDilated_Cardiomyopathy', 'PrimaryDilated_Cardiomyopathy',\n",
              "       'AtrialFibrillation', 'Paroxysmalatrialfibrillation', 'BBlockers',\n",
              "       'Amiodarone', 'Calciumchannelblockers', 'Diuretics', 'Antiplatelet',\n",
              "       'Nitrates', 'ACEinhibitors', 'Ipolipemizzanti', 'Antidiabetici',\n",
              "       'Totalmortality', 'NonCVDDeath', 'CVDDeath', 'FatalMIorSuddendeath',\n",
              "       'UnKnown', 'Accident', 'Suicide', 'Cabg', 'NonfatalAMI', 'Pci',\n",
              "       'Euthyroid', 'SubclinicalprimaryhypothyroidismSCH',\n",
              "       'Subclinicalprimaryhyperthyroidism_SCT', 'LowT3', 'Ipotiroidismo',\n",
              "       'Ipertiroidismo', 'Controllo', 'Normal', 'SindromeX', 'AMI', 'PMI',\n",
              "       'Aritmie', 'MIN', 'MIO', 'Miocardite', 'Pericardite', 'Endocardite',\n",
              "       'Valvulopatie', 'MalattiaVasoAorta', 'Ipertensione',\n",
              "       'CardiopatiaCongenita', 'EmboliaPolmonare', 'EPA', 'DimParPost',\n",
              "       'Cardiaccauseofdeath', 'Collectedby', 'N.patients', 'target'],\n",
              "      dtype='object')"
            ]
          },
          "metadata": {},
          "execution_count": 350
        }
      ]
    },
    {
      "cell_type": "code",
      "source": [
        "print(len(df[df['NonfatalAMI']==1]))\n",
        "df[df['NonfatalAMI']==1][['NonFatalAMIFollowUp','NonfatalAMI']]['NonFatalAMIFollowUp'].isna().value_counts()"
      ],
      "metadata": {
        "colab": {
          "base_uri": "https://localhost:8080/"
        },
        "id": "raYwlZTIvnhb",
        "outputId": "acec6561-49a2-4238-8d54-29512e4bde98"
      },
      "execution_count": 351,
      "outputs": [
        {
          "output_type": "stream",
          "name": "stdout",
          "text": [
            "204\n"
          ]
        },
        {
          "output_type": "execute_result",
          "data": {
            "text/plain": [
              "False    204\n",
              "Name: NonFatalAMIFollowUp, dtype: int64"
            ]
          },
          "metadata": {},
          "execution_count": 351
        }
      ]
    },
    {
      "cell_type": "markdown",
      "source": [
        "# Encoder building"
      ],
      "metadata": {
        "id": "c9fF-1PIAc3s"
      }
    },
    {
      "cell_type": "code",
      "source": [
        "# todo"
      ],
      "metadata": {
        "id": "dSo_OP1LAm-W"
      },
      "execution_count": null,
      "outputs": []
    },
    {
      "cell_type": "markdown",
      "source": [
        "# Simple Classifier"
      ],
      "metadata": {
        "id": "hOdQP242Ao8M"
      }
    },
    {
      "cell_type": "code",
      "source": [
        "# todo"
      ],
      "metadata": {
        "id": "tkWBEam1AqpY"
      },
      "execution_count": null,
      "outputs": []
    },
    {
      "cell_type": "markdown",
      "source": [
        "## Comparison"
      ],
      "metadata": {
        "id": "rCT4jbLiAswe"
      }
    },
    {
      "cell_type": "code",
      "source": [],
      "metadata": {
        "id": "GnYdbMZhXzON"
      },
      "execution_count": null,
      "outputs": []
    }
  ]
}