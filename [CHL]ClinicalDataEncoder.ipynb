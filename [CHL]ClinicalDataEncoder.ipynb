{
  "nbformat": 4,
  "nbformat_minor": 0,
  "metadata": {
    "colab": {
      "provenance": [],
      "collapsed_sections": [
        "c9fF-1PIAc3s",
        "hOdQP242Ao8M",
        "rCT4jbLiAswe"
      ],
      "include_colab_link": true
    },
    "kernelspec": {
      "name": "python3",
      "display_name": "Python 3"
    },
    "language_info": {
      "name": "python"
    }
  },
  "cells": [
    {
      "cell_type": "markdown",
      "metadata": {
        "id": "view-in-github",
        "colab_type": "text"
      },
      "source": [
        "<a href=\"https://colab.research.google.com/github/Sopralapanca/ComputationalHealthLab/blob/master/%5BCHL%5DClinicalDataEncoder.ipynb\" target=\"_parent\"><img src=\"https://colab.research.google.com/assets/colab-badge.svg\" alt=\"Open In Colab\"/></a>"
      ]
    },
    {
      "cell_type": "code",
      "execution_count": null,
      "metadata": {
        "id": "x4NajQGR4dMY"
      },
      "outputs": [],
      "source": [
        "%%capture\n",
        "\n",
        "import pandas as pd\n",
        "import numpy as np\n",
        "\n",
        "# clone the repository in order to download the dataset\n",
        "!git clone https://github.com/Sopralapanca/ComputationalHealthLab.git\n",
        "\n",
        "data_path = \"/content/ComputationalHealthLab/datasets/TiroideCardio_dataset.csv\""
      ]
    },
    {
      "cell_type": "code",
      "source": [
        "df = pd.read_csv(data_path)\n",
        "df.columns"
      ],
      "metadata": {
        "colab": {
          "base_uri": "https://localhost:8080/"
        },
        "id": "HzE9TAdf-Yfe",
        "outputId": "ca200c62-826b-420b-add7-4b1c5858ac2e"
      },
      "execution_count": null,
      "outputs": [
        {
          "output_type": "execute_result",
          "data": {
            "text/plain": [
              "Index(['Data prelievo (1)', 'N. patients', 'Age (1)', 'Gender (Male = 1)',\n",
              "       'Angina', 'Previous CABG', 'Previous PCI',\n",
              "       'Previous \\nMyocardial Infarction', 'Acute \\nMyocardial Infarction',\n",
              "       'Angiography', 'Vessels', 'CAD', 'Smoke\\nHistory of smoke',\n",
              "       'Diabetes\\nHistory of diabetes',\n",
              "       'Hypertension\\nHistory of hypertension',\n",
              "       'Dyslipidemia\\nHystory of dyslipidemia', 'Family history of CAD',\n",
              "       'Obesity\\nHistory of obesity',\n",
              "       'Documented resting \\nor exertional ischemia',\n",
              "       'Post-ischemic Dilated\\nCardiomyopathy',\n",
              "       'Primary Dilated\\nCardiomyopathy', 'Atrial Fibrillation',\n",
              "       'Paroxysmal atrial fibrillation', 'B-Blockers', 'Amiodarone',\n",
              "       'Calcium channel blockers', 'Diuretics', 'Antiplatelet', 'Nitrates',\n",
              "       'ACE-inhibitors', 'Ipolipemizzanti', 'Antidiabetici', 'Total mortality',\n",
              "       'Non CVD Death', 'CVD Death', 'Fatal MI or Sudden death', 'UnKnown',\n",
              "       'Accident', 'Suicide', 'Cabg', 'Non fatal AMI', 'Pci',\n",
              "       'Total cholesterol', 'HDL', 'LDL', 'Triglycerides', 'Glycemia', 'TSH',\n",
              "       'fT3', 'fT4', 'Euthyroid', 'Subclinical primary hypothyroidism (SCH)',\n",
              "       'Subclinical primary hyperthyroidism\\n(SCT)', 'Low T3', 'Ipotiroidismo',\n",
              "       'Ipertiroidismo', 'Controllo', 'Patologia TIROIDE ', 'Normal',\n",
              "       'SindromeX', 'AMI', 'PMI', 'Aritmie', 'MIN', 'MIO', 'Miocardite',\n",
              "       'Pericardite', 'Endocardite', 'Valvulopatie', 'MalattiaVasoAorta',\n",
              "       'Ipertensione', 'CardiopatiaCongenita', 'EmboliaPolmonare', 'EPA', 'HR',\n",
              "       'Weight', 'Height', 'BMI', 'Diastolic blood pressure',\n",
              "       'Systolic blood pressure', 'WmsiBas', 'DimSettoIV', 'DimParPost', 'fe',\n",
              "       'vsx', 'Follow Up Data', 'Data of death', 'Cause of death',\n",
              "       'Cardiac cause of death', 'Collected by', 'CABG ',\n",
              "       'Non Fatal AMI (Follow-Up)', 'PCI', 'Ictus'],\n",
              "      dtype='object')"
            ]
          },
          "metadata": {},
          "execution_count": 2
        }
      ]
    },
    {
      "cell_type": "code",
      "source": [
        "df.shape"
      ],
      "metadata": {
        "colab": {
          "base_uri": "https://localhost:8080/"
        },
        "id": "BojrTcsBR5T8",
        "outputId": "1742eb35-ada4-4a93-fe9d-0378aba2b3ed"
      },
      "execution_count": null,
      "outputs": [
        {
          "output_type": "execute_result",
          "data": {
            "text/plain": [
              "(5820, 94)"
            ]
          },
          "metadata": {},
          "execution_count": 3
        }
      ]
    },
    {
      "cell_type": "markdown",
      "source": [
        "# Data Understanding & Data Preparation"
      ],
      "metadata": {
        "id": "Z1FdtzkbAZJg"
      }
    },
    {
      "cell_type": "code",
      "source": [
        "df[\"Cardiac cause of death\"].value_counts()"
      ],
      "metadata": {
        "colab": {
          "base_uri": "https://localhost:8080/"
        },
        "id": "PeqRfw_3Aeb-",
        "outputId": "a50a4020-b513-4298-aa07-ec6d0e51e7ca"
      },
      "execution_count": null,
      "outputs": [
        {
          "output_type": "execute_result",
          "data": {
            "text/plain": [
              "0.0    5297\n",
              "1.0     512\n",
              "Name: Cardiac cause of death, dtype: int64"
            ]
          },
          "metadata": {},
          "execution_count": 57
        }
      ]
    },
    {
      "cell_type": "code",
      "source": [
        "df['Data of death'].isnull().sum()"
      ],
      "metadata": {
        "colab": {
          "base_uri": "https://localhost:8080/"
        },
        "id": "Tk5wsTjJRmCq",
        "outputId": "a61bd71d-9262-4334-944c-a73be2598d3b"
      },
      "execution_count": null,
      "outputs": [
        {
          "output_type": "execute_result",
          "data": {
            "text/plain": [
              "4351"
            ]
          },
          "metadata": {},
          "execution_count": 18
        }
      ]
    },
    {
      "cell_type": "markdown",
      "source": [
        "Missing values in \"Data of death\" are interpreted as still alive"
      ],
      "metadata": {
        "id": "oQgpU6JkyuOA"
      }
    },
    {
      "cell_type": "code",
      "source": [
        "df['Data prelievo (1)'].isnull().sum()"
      ],
      "metadata": {
        "colab": {
          "base_uri": "https://localhost:8080/"
        },
        "id": "EmUxrzJCxH_m",
        "outputId": "6edd7a94-a77a-4c34-89b0-8278c9e9ed5f"
      },
      "execution_count": null,
      "outputs": [
        {
          "output_type": "execute_result",
          "data": {
            "text/plain": [
              "1"
            ]
          },
          "metadata": {},
          "execution_count": 19
        }
      ]
    },
    {
      "cell_type": "code",
      "source": [
        "df['Data prelievo (1)']= pd.to_datetime(df['Data prelievo (1)'], format='%d/%m/%Y')\n",
        "df['Data of death']= pd.to_datetime(df['Data of death'], format='%d/%m/%Y')"
      ],
      "metadata": {
        "id": "a87Ww6iTGMxl"
      },
      "execution_count": null,
      "outputs": []
    },
    {
      "cell_type": "code",
      "source": [
        "df['target']= ((((df['Data of death']-df['Data prelievo (1)'])/ np.timedelta64(1, 'D'))//365)<=7) & (df['Cardiac cause of death'])\n",
        "df['target']"
      ],
      "metadata": {
        "colab": {
          "base_uri": "https://localhost:8080/"
        },
        "id": "qibSmOJWF2wM",
        "outputId": "c881cade-12c2-44fc-e943-5ab48b772fab"
      },
      "execution_count": null,
      "outputs": [
        {
          "output_type": "execute_result",
          "data": {
            "text/plain": [
              "0       False\n",
              "1       False\n",
              "2       False\n",
              "3       False\n",
              "4       False\n",
              "        ...  \n",
              "5815    False\n",
              "5816    False\n",
              "5817    False\n",
              "5818    False\n",
              "5819    False\n",
              "Name: target, Length: 5820, dtype: bool"
            ]
          },
          "metadata": {},
          "execution_count": 28
        }
      ]
    },
    {
      "cell_type": "code",
      "source": [
        "df['target'].value_counts()"
      ],
      "metadata": {
        "colab": {
          "base_uri": "https://localhost:8080/"
        },
        "outputId": "2cfc45f2-17f8-4100-bf26-e153a3be4fe3",
        "id": "mxLzuweoPGJz"
      },
      "execution_count": null,
      "outputs": [
        {
          "output_type": "execute_result",
          "data": {
            "text/plain": [
              "False    5351\n",
              "True      469\n",
              "Name: target, dtype: int64"
            ]
          },
          "metadata": {},
          "execution_count": 29
        }
      ]
    },
    {
      "cell_type": "code",
      "source": [
        "df['target'].isnull().any()"
      ],
      "metadata": {
        "colab": {
          "base_uri": "https://localhost:8080/"
        },
        "id": "cq6MG9Wlw81h",
        "outputId": "a3f65573-ace9-45e5-d831-deb3a8841a5f"
      },
      "execution_count": null,
      "outputs": [
        {
          "output_type": "execute_result",
          "data": {
            "text/plain": [
              "False"
            ]
          },
          "metadata": {},
          "execution_count": 30
        }
      ]
    },
    {
      "cell_type": "markdown",
      "source": [
        "# Encoder building"
      ],
      "metadata": {
        "id": "c9fF-1PIAc3s"
      }
    },
    {
      "cell_type": "code",
      "source": [
        "# todo"
      ],
      "metadata": {
        "id": "dSo_OP1LAm-W"
      },
      "execution_count": null,
      "outputs": []
    },
    {
      "cell_type": "markdown",
      "source": [
        "# Classical model"
      ],
      "metadata": {
        "id": "hOdQP242Ao8M"
      }
    },
    {
      "cell_type": "code",
      "source": [
        "# todo"
      ],
      "metadata": {
        "id": "tkWBEam1AqpY"
      },
      "execution_count": null,
      "outputs": []
    },
    {
      "cell_type": "markdown",
      "source": [
        "# Comparison"
      ],
      "metadata": {
        "id": "rCT4jbLiAswe"
      }
    }
  ]
}